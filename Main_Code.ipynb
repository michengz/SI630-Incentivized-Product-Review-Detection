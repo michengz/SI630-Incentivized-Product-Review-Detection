{
 "cells": [
  {
   "cell_type": "code",
   "execution_count": 6,
   "id": "de0e332e",
   "metadata": {},
   "outputs": [],
   "source": [
    "#!pip install dataframe-image"
   ]
  },
  {
   "cell_type": "code",
   "execution_count": 16,
   "id": "178083d6",
   "metadata": {},
   "outputs": [],
   "source": [
    "import csv\n",
    "import pandas as pd\n",
    "import numpy as np\n",
    "import seaborn as sns\n",
    "import matplotlib.pyplot as plt\n",
    "import dataframe_image as dfi\n",
    "from sklearn.dummy import DummyClassifier\n",
    "pd.options.mode.chained_assignment = None  # default='warn'\n",
    "plt.style.use('fivethirtyeight')"
   ]
  },
  {
   "cell_type": "markdown",
   "id": "ad197a73",
   "metadata": {},
   "source": [
    "# EDA & Data Cleaning"
   ]
  },
  {
   "cell_type": "code",
   "execution_count": 222,
   "id": "b1240209",
   "metadata": {},
   "outputs": [
    {
     "name": "stderr",
     "output_type": "stream",
     "text": [
      "/sw/arcts/centos7/python3.8-anaconda/2021.05/lib/python3.8/site-packages/IPython/core/interactiveshell.py:3165: DtypeWarning: Columns (3) have mixed types.Specify dtype option on import or set low_memory=False.\n",
      "  has_raised = await self.run_ast_nodes(code_ast.body, cell_name,\n"
     ]
    }
   ],
   "source": [
    "df = pd.read_csv('sephora_review_data.csv')"
   ]
  },
  {
   "cell_type": "code",
   "execution_count": 223,
   "id": "27cd929b",
   "metadata": {},
   "outputs": [
    {
     "data": {
      "text/plain": [
       "(184638, 13)"
      ]
     },
     "execution_count": 223,
     "metadata": {},
     "output_type": "execute_result"
    }
   ],
   "source": [
    "df.shape"
   ]
  },
  {
   "cell_type": "code",
   "execution_count": 224,
   "id": "80bff0f3",
   "metadata": {},
   "outputs": [
    {
     "data": {
      "text/html": [
       "<div>\n",
       "<style scoped>\n",
       "    .dataframe tbody tr th:only-of-type {\n",
       "        vertical-align: middle;\n",
       "    }\n",
       "\n",
       "    .dataframe tbody tr th {\n",
       "        vertical-align: top;\n",
       "    }\n",
       "\n",
       "    .dataframe thead th {\n",
       "        text-align: right;\n",
       "    }\n",
       "</style>\n",
       "<table border=\"1\" class=\"dataframe\">\n",
       "  <thead>\n",
       "    <tr style=\"text-align: right;\">\n",
       "      <th></th>\n",
       "      <th>item_id</th>\n",
       "      <th>product</th>\n",
       "      <th>brand</th>\n",
       "      <th>total_reviews</th>\n",
       "      <th>user_name</th>\n",
       "      <th>review_title</th>\n",
       "      <th>review_text</th>\n",
       "      <th>review_rating</th>\n",
       "      <th>helpful_votes</th>\n",
       "      <th>not_helpful_votes</th>\n",
       "      <th>verified_purchase</th>\n",
       "      <th>sephora_employee</th>\n",
       "      <th>incentivized</th>\n",
       "    </tr>\n",
       "  </thead>\n",
       "  <tbody>\n",
       "    <tr>\n",
       "      <th>120122</th>\n",
       "      <td>2131472</td>\n",
       "      <td>Matcha Collagen</td>\n",
       "      <td>Vital Proteins</td>\n",
       "      <td>30</td>\n",
       "      <td>BrinaInBrooklyn</td>\n",
       "      <td>Sweet, faint taste of matcha</td>\n",
       "      <td>I received a sample of this matcha collagen as...</td>\n",
       "      <td>1.0</td>\n",
       "      <td>2.0</td>\n",
       "      <td>2.0</td>\n",
       "      <td>0</td>\n",
       "      <td>0</td>\n",
       "      <td>1</td>\n",
       "    </tr>\n",
       "    <tr>\n",
       "      <th>21459</th>\n",
       "      <td>2500858</td>\n",
       "      <td>So Poreless Deep Exfoliating Blackhead Scrub</td>\n",
       "      <td>TULA Skincare</td>\n",
       "      <td>31</td>\n",
       "      <td>SayBeeheart</td>\n",
       "      <td>NaN</td>\n",
       "      <td>This product is great to use! I have been lovi...</td>\n",
       "      <td>4.0</td>\n",
       "      <td>0.0</td>\n",
       "      <td>0.0</td>\n",
       "      <td>0</td>\n",
       "      <td>0</td>\n",
       "      <td>0</td>\n",
       "    </tr>\n",
       "    <tr>\n",
       "      <th>107316</th>\n",
       "      <td>2318798</td>\n",
       "      <td>WASO: Giga-Hydrating Rich Cream</td>\n",
       "      <td>Shiseido</td>\n",
       "      <td>186</td>\n",
       "      <td>ivyfelicia</td>\n",
       "      <td>I Am Loving It!</td>\n",
       "      <td>Amazing! The hydration in this cream is just w...</td>\n",
       "      <td>5.0</td>\n",
       "      <td>0.0</td>\n",
       "      <td>0.0</td>\n",
       "      <td>0</td>\n",
       "      <td>0</td>\n",
       "      <td>1</td>\n",
       "    </tr>\n",
       "  </tbody>\n",
       "</table>\n",
       "</div>"
      ],
      "text/plain": [
       "        item_id                                       product           brand  \\\n",
       "120122  2131472                               Matcha Collagen  Vital Proteins   \n",
       "21459   2500858  So Poreless Deep Exfoliating Blackhead Scrub   TULA Skincare   \n",
       "107316  2318798               WASO: Giga-Hydrating Rich Cream        Shiseido   \n",
       "\n",
       "       total_reviews        user_name                  review_title  \\\n",
       "120122            30  BrinaInBrooklyn  Sweet, faint taste of matcha   \n",
       "21459             31      SayBeeheart                           NaN   \n",
       "107316           186       ivyfelicia               I Am Loving It!   \n",
       "\n",
       "                                              review_text  review_rating  \\\n",
       "120122  I received a sample of this matcha collagen as...            1.0   \n",
       "21459   This product is great to use! I have been lovi...            4.0   \n",
       "107316  Amazing! The hydration in this cream is just w...            5.0   \n",
       "\n",
       "        helpful_votes  not_helpful_votes  verified_purchase  sephora_employee  \\\n",
       "120122            2.0                2.0                  0                 0   \n",
       "21459             0.0                0.0                  0                 0   \n",
       "107316            0.0                0.0                  0                 0   \n",
       "\n",
       "        incentivized  \n",
       "120122             1  \n",
       "21459              0  \n",
       "107316             1  "
      ]
     },
     "execution_count": 224,
     "metadata": {},
     "output_type": "execute_result"
    }
   ],
   "source": [
    "df.sample(3)"
   ]
  },
  {
   "cell_type": "code",
   "execution_count": 225,
   "id": "9c68c7ae",
   "metadata": {},
   "outputs": [
    {
     "data": {
      "text/plain": [
       "Index(['item_id', 'product', 'brand', 'total_reviews', 'user_name',\n",
       "       'review_title', 'review_text', 'review_rating', 'helpful_votes',\n",
       "       'not_helpful_votes', 'verified_purchase', 'sephora_employee',\n",
       "       'incentivized'],\n",
       "      dtype='object')"
      ]
     },
     "execution_count": 225,
     "metadata": {},
     "output_type": "execute_result"
    }
   ],
   "source": [
    "df.columns"
   ]
  },
  {
   "cell_type": "code",
   "execution_count": 226,
   "id": "6d7640e3",
   "metadata": {},
   "outputs": [
    {
     "data": {
      "text/plain": [
       "item_id                  0\n",
       "product                  0\n",
       "brand                    0\n",
       "total_reviews           73\n",
       "user_name             1591\n",
       "review_title         56957\n",
       "review_text            306\n",
       "review_rating           79\n",
       "helpful_votes           79\n",
       "not_helpful_votes       79\n",
       "verified_purchase        0\n",
       "sephora_employee         0\n",
       "incentivized             0\n",
       "dtype: int64"
      ]
     },
     "execution_count": 226,
     "metadata": {},
     "output_type": "execute_result"
    }
   ],
   "source": [
    "df.isna().sum()"
   ]
  },
  {
   "cell_type": "code",
   "execution_count": 227,
   "id": "b7ce57be",
   "metadata": {},
   "outputs": [
    {
     "data": {
      "text/plain": [
       "item_id                  0\n",
       "product                  0\n",
       "brand                    0\n",
       "total_reviews           73\n",
       "user_name             1508\n",
       "review_title         56651\n",
       "review_text              0\n",
       "review_rating            0\n",
       "helpful_votes            0\n",
       "not_helpful_votes        0\n",
       "verified_purchase        0\n",
       "sephora_employee         0\n",
       "incentivized             0\n",
       "dtype: int64"
      ]
     },
     "execution_count": 227,
     "metadata": {},
     "output_type": "execute_result"
    }
   ],
   "source": [
    "df = df.dropna(subset=['review_text'])\n",
    "df.isna().sum()"
   ]
  },
  {
   "cell_type": "code",
   "execution_count": 228,
   "id": "795e576c",
   "metadata": {},
   "outputs": [],
   "source": [
    "# def find_inc_words(row):\n",
    "#     if 'influenster' in str(row['review_text']).lower() or 'sample' in str(row['review_text']).lower() or 'voxbox' in str(row['review_text']).lower():\n",
    "#         return 1\n",
    "#     elif row['incentivized'] == 1:\n",
    "#         return 1\n",
    "#     else:\n",
    "#         return 0"
   ]
  },
  {
   "cell_type": "code",
   "execution_count": 229,
   "id": "7dffc73b",
   "metadata": {},
   "outputs": [],
   "source": [
    "# df['incentivized'] = df.apply(find_inc_words, axis = 1)"
   ]
  },
  {
   "cell_type": "code",
   "execution_count": 230,
   "id": "6ec4a62f",
   "metadata": {},
   "outputs": [
    {
     "data": {
      "text/plain": [
       "0    117907\n",
       "1     66425\n",
       "Name: incentivized, dtype: int64"
      ]
     },
     "execution_count": 230,
     "metadata": {},
     "output_type": "execute_result"
    }
   ],
   "source": [
    "df['incentivized'].value_counts()"
   ]
  },
  {
   "cell_type": "code",
   "execution_count": 231,
   "id": "e8247d58",
   "metadata": {},
   "outputs": [],
   "source": [
    "def group(row):\n",
    "    if row['incentivized'] == 0 and row['verified_purchase'] == 0:\n",
    "        return 'Not incentivized\\nNot verified'\n",
    "    if row['incentivized'] == 0 and row['verified_purchase'] == 1:\n",
    "        return 'Not incentivized\\nVerified'\n",
    "    if row['incentivized'] == 1 and row['verified_purchase'] == 0:\n",
    "        return 'Incentivized\\nNot verified'\n",
    "    if row['incentivized'] == 1 and row['verified_purchase'] == 1:\n",
    "        return 'Incentivized\\nVerified'"
   ]
  },
  {
   "cell_type": "code",
   "execution_count": 232,
   "id": "7fa04011",
   "metadata": {},
   "outputs": [],
   "source": [
    "df['inc_ver'] = df.apply(group, axis = 1)"
   ]
  },
  {
   "cell_type": "code",
   "execution_count": 233,
   "id": "0800c200",
   "metadata": {},
   "outputs": [
    {
     "data": {
      "image/png": "[encoded data removed]",
      "text/plain": [
       "<Figure size 1080x360 with 2 Axes>"
      ]
     },
     "metadata": {},
     "output_type": "display_data"
    }
   ],
   "source": [
    "fig, axs = plt.subplots(1, 2, figsize=(15,5))\n",
    "sns.boxplot(data = df, x = 'inc_ver', y = 'review_rating', ax = axs[0], palette=\"Paired\",linewidth=2)\n",
    "sns.barplot(data = df, x = 'inc_ver', y = 'review_rating', ci = None, ax = axs[1], palette=\"Paired\")\n",
    "axs[0].set_xlabel(\"\", fontsize = 15) \n",
    "axs[0].set_ylabel(\"Review Rating\", fontsize = 14)\n",
    "axs[0].tick_params('x', labelsize = 11.5)\n",
    "axs[1].set_xlabel(\"\", fontsize = 15)\n",
    "axs[1].set_ylabel(\"Average Review Rating\", fontsize = 14) \n",
    "axs[1].tick_params('x', labelsize = 11.5)\n",
    "plt.show()"
   ]
  },
  {
   "cell_type": "code",
   "execution_count": 234,
   "id": "94c41032",
   "metadata": {},
   "outputs": [
    {
     "data": {
      "image/png": "[encoded data removed]",
      "text/plain": [
       "<Figure size 432x288 with 1 Axes>"
      ]
     },
     "metadata": {},
     "output_type": "display_data"
    }
   ],
   "source": [
    "sns.boxplot(data = df[(df['inc_ver'] =='Incentivized\\nNot verified')|(df['inc_ver'] =='Not incentivized\\nVerified')],\n",
    "            x = 'inc_ver', y = 'review_rating',linewidth=2).set_title('Review Ratings Distribution')\n",
    "\n",
    "plt.xlabel(\"\", fontsize = 15) \n",
    "plt.ylabel(\"\", fontsize = 15) \n",
    "plt.xticks(fontsize = 15, ticks = [0,1], labels = ['Not Incentivized','Incentivized'])\n",
    "plt.show()"
   ]
  },
  {
   "cell_type": "code",
   "execution_count": 235,
   "id": "181f9290",
   "metadata": {},
   "outputs": [
    {
     "data": {
      "image/png": "[encoded data removed]",
      "text/plain": [
       "<Figure size 792x360 with 2 Axes>"
      ]
     },
     "metadata": {},
     "output_type": "display_data"
    }
   ],
   "source": [
    "fig, axs = plt.subplots(1, 2, figsize=(11,5), sharey=True)\n",
    "sns.barplot(data = df[(df['inc_ver'] =='Incentivized\\nNot verified')|(df['inc_ver'] =='Not incentivized\\nVerified')], x = 'inc_ver', y = 'helpful_votes', ci = None, ax = axs[0]).set_title('Average Helpful Votes')\n",
    "sns.barplot(data = df[(df['inc_ver'] =='Incentivized\\nNot verified')|(df['inc_ver'] =='Not incentivized\\nVerified')], x = 'inc_ver', y = 'not_helpful_votes', ci = None, ax = axs[1]).set_title('Average Unhelpful Votes')\n",
    "axs[0].set_xlabel(\"\", fontsize = 15) \n",
    "axs[0].set_ylabel(\"\", fontsize = 15)\n",
    "axs[0].tick_params('x', labelsize = 15)\n",
    "axs[1].set_xlabel(\"\", fontsize = 15)\n",
    "axs[1].set_ylabel(\"\", fontsize = 15) \n",
    "axs[1].tick_params('x', labelsize = 15)\n",
    "axs[0].set_xticklabels(['Not Incentivized','Incentivized'], fontsize = 15)\n",
    "axs[1].set_xticklabels(['Not Incentivized','Incentivized'], fontsize = 15)\n",
    "\n",
    "plt.show()"
   ]
  },
  {
   "cell_type": "code",
   "execution_count": 236,
   "id": "b5659ea5",
   "metadata": {},
   "outputs": [
    {
     "data": {
      "image/png": "[encoded data removed]",
      "text/plain": [
       "<Figure size 1080x360 with 2 Axes>"
      ]
     },
     "metadata": {},
     "output_type": "display_data"
    }
   ],
   "source": [
    "fig, axs = plt.subplots(1, 2, figsize=(15,5))\n",
    "sns.barplot(data = df, x = 'inc_ver', y = 'helpful_votes', ci = None, ax = axs[0], palette=\"Paired\")\n",
    "sns.barplot(data = df, x = 'inc_ver', y = 'not_helpful_votes', ci = None, ax = axs[1], palette=\"Paired\")\n",
    "axs[0].set_xlabel(\"\", fontsize = 15) \n",
    "axs[0].set_ylabel(\"Average Helpful Votes\", fontsize = 15)\n",
    "axs[0].tick_params('x', labelsize = 11.5)\n",
    "axs[1].set_xlabel(\"\", fontsize = 15)\n",
    "axs[1].set_ylabel(\"Average Unhelpful Votes\", fontsize = 15) \n",
    "axs[1].tick_params('x', labelsize = 11.5)\n",
    "plt.show()"
   ]
  },
  {
   "cell_type": "code",
   "execution_count": 36,
   "id": "0cadcffc",
   "metadata": {},
   "outputs": [
    {
     "name": "stdout",
     "output_type": "stream",
     "text": [
      "100979\n",
      "16928\n",
      "417\n",
      "66008\n",
      "568\n"
     ]
    }
   ],
   "source": [
    "print(df[(df['incentivized'] == 0)&(df['verified_purchase'] == 0)].shape[0])\n",
    "print(df[(df['incentivized'] == 0)&(df['verified_purchase'] == 1)].shape[0])\n",
    "print(df[(df['incentivized'] == 1)&(df['verified_purchase'] == 1)].shape[0])\n",
    "print(df[(df['incentivized'] == 1)&(df['verified_purchase'] == 0)].shape[0])\n",
    "print(df[(df['incentivized'] == 1)&(df['verified_purchase'] == 0)&(df['sephora_employee'] == 1)].shape[0])"
   ]
  },
  {
   "cell_type": "code",
   "execution_count": 37,
   "id": "75e87828",
   "metadata": {},
   "outputs": [
    {
     "name": "stdout",
     "output_type": "stream",
     "text": [
      "incentivized: 66425\n",
      "verified purchase: 17345\n",
      "sephora employee: 1626\n"
     ]
    }
   ],
   "source": [
    "print(f'incentivized: {df[\"incentivized\"].value_counts()[1]}')\n",
    "print(f'verified purchase: {df[\"verified_purchase\"].value_counts()[1]}')\n",
    "print(f'sephora employee: {df[\"sephora_employee\"].value_counts()[1]}')"
   ]
  },
  {
   "cell_type": "code",
   "execution_count": 38,
   "id": "60e20493",
   "metadata": {},
   "outputs": [],
   "source": [
    "df['review_title'] = df['review_title'].fillna('')"
   ]
  },
  {
   "cell_type": "code",
   "execution_count": 39,
   "id": "d27e6916",
   "metadata": {},
   "outputs": [
    {
     "data": {
      "text/html": [
       "<div>\n",
       "<style scoped>\n",
       "    .dataframe tbody tr th:only-of-type {\n",
       "        vertical-align: middle;\n",
       "    }\n",
       "\n",
       "    .dataframe tbody tr th {\n",
       "        vertical-align: top;\n",
       "    }\n",
       "\n",
       "    .dataframe thead th {\n",
       "        text-align: right;\n",
       "    }\n",
       "</style>\n",
       "<table border=\"1\" class=\"dataframe\">\n",
       "  <thead>\n",
       "    <tr style=\"text-align: right;\">\n",
       "      <th></th>\n",
       "      <th>item_id</th>\n",
       "      <th>product</th>\n",
       "      <th>brand</th>\n",
       "      <th>total_reviews</th>\n",
       "      <th>user_name</th>\n",
       "      <th>review_title</th>\n",
       "      <th>review_text</th>\n",
       "      <th>review_rating</th>\n",
       "      <th>helpful_votes</th>\n",
       "      <th>not_helpful_votes</th>\n",
       "      <th>verified_purchase</th>\n",
       "      <th>sephora_employee</th>\n",
       "      <th>incentivized</th>\n",
       "      <th>inc_ver</th>\n",
       "      <th>review</th>\n",
       "    </tr>\n",
       "  </thead>\n",
       "  <tbody>\n",
       "    <tr>\n",
       "      <th>102236</th>\n",
       "      <td>654806</td>\n",
       "      <td>Essential-C Toner</td>\n",
       "      <td>Murad</td>\n",
       "      <td>271</td>\n",
       "      <td>ZillaRhi</td>\n",
       "      <td>Great Toner</td>\n",
       "      <td>I started using this toner about a month ago a...</td>\n",
       "      <td>4.0</td>\n",
       "      <td>1.0</td>\n",
       "      <td>0.0</td>\n",
       "      <td>0</td>\n",
       "      <td>0</td>\n",
       "      <td>0</td>\n",
       "      <td>Not incentivized\\nNot verified</td>\n",
       "      <td>Great Toner. I started using this toner about ...</td>\n",
       "    </tr>\n",
       "  </tbody>\n",
       "</table>\n",
       "</div>"
      ],
      "text/plain": [
       "        item_id            product  brand total_reviews user_name  \\\n",
       "102236   654806  Essential-C Toner  Murad           271  ZillaRhi   \n",
       "\n",
       "       review_title                                        review_text  \\\n",
       "102236  Great Toner  I started using this toner about a month ago a...   \n",
       "\n",
       "        review_rating  helpful_votes  not_helpful_votes  verified_purchase  \\\n",
       "102236            4.0            1.0                0.0                  0   \n",
       "\n",
       "        sephora_employee  incentivized                         inc_ver  \\\n",
       "102236                 0             0  Not incentivized\\nNot verified   \n",
       "\n",
       "                                                   review  \n",
       "102236  Great Toner. I started using this toner about ...  "
      ]
     },
     "execution_count": 39,
     "metadata": {},
     "output_type": "execute_result"
    }
   ],
   "source": [
    "df['review'] = df['review_title'] + '. ' + df['review_text']\n",
    "df.sample(1)"
   ]
  },
  {
   "cell_type": "code",
   "execution_count": 40,
   "id": "8a9f7d16",
   "metadata": {},
   "outputs": [],
   "source": [
    "verified_df = df[(df['incentivized'] == 0)&(df['verified_purchase'] == 1)]\n",
    "incentivized_df = df[(df['incentivized'] == 1)&(df['verified_purchase'] == 0)]\n",
    "df_cleaned = pd.concat([verified_df,incentivized_df])"
   ]
  },
  {
   "cell_type": "code",
   "execution_count": 41,
   "id": "be2b7b69",
   "metadata": {},
   "outputs": [
    {
     "data": {
      "text/plain": [
       "item_id                0\n",
       "product                0\n",
       "brand                  0\n",
       "total_reviews         32\n",
       "user_name            967\n",
       "review_title           0\n",
       "review_text            0\n",
       "review_rating          0\n",
       "helpful_votes          0\n",
       "not_helpful_votes      0\n",
       "verified_purchase      0\n",
       "sephora_employee       0\n",
       "incentivized           0\n",
       "inc_ver                0\n",
       "review                 0\n",
       "dtype: int64"
      ]
     },
     "execution_count": 41,
     "metadata": {},
     "output_type": "execute_result"
    }
   ],
   "source": [
    "df_cleaned.isna().sum()"
   ]
  },
  {
   "cell_type": "code",
   "execution_count": 42,
   "id": "f7bf09a5",
   "metadata": {},
   "outputs": [
    {
     "data": {
      "text/plain": [
       "1    66008\n",
       "0    16928\n",
       "Name: incentivized, dtype: int64"
      ]
     },
     "execution_count": 42,
     "metadata": {},
     "output_type": "execute_result"
    }
   ],
   "source": [
    "df_cleaned['incentivized'].value_counts()"
   ]
  },
  {
   "cell_type": "code",
   "execution_count": 43,
   "id": "f16ceadc",
   "metadata": {},
   "outputs": [
    {
     "data": {
      "text/plain": [
       "0    66008\n",
       "1    16928\n",
       "Name: verified_purchase, dtype: int64"
      ]
     },
     "execution_count": 43,
     "metadata": {},
     "output_type": "execute_result"
    }
   ],
   "source": [
    "df_cleaned['verified_purchase'].value_counts()"
   ]
  },
  {
   "cell_type": "code",
   "execution_count": 44,
   "id": "d5265204",
   "metadata": {},
   "outputs": [],
   "source": [
    "df_cleaned.to_csv('sephora_data_cleaned.csv', index = False)"
   ]
  },
  {
   "cell_type": "markdown",
   "id": "487c7750",
   "metadata": {},
   "source": [
    "# Baseline"
   ]
  },
  {
   "cell_type": "code",
   "execution_count": 45,
   "id": "cffe5fc4",
   "metadata": {},
   "outputs": [],
   "source": [
    "from sklearn.model_selection import train_test_split\n",
    "from sklearn.metrics import precision_score, recall_score, f1_score, accuracy_score\n",
    "from sklearn.metrics import precision_recall_fscore_support"
   ]
  },
  {
   "cell_type": "code",
   "execution_count": 46,
   "id": "699a311a",
   "metadata": {},
   "outputs": [
    {
     "name": "stderr",
     "output_type": "stream",
     "text": [
      "/sw/arcts/centos7/python3.8-anaconda/2021.05/lib/python3.8/site-packages/IPython/core/interactiveshell.py:3165: DtypeWarning: Columns (3) have mixed types.Specify dtype option on import or set low_memory=False.\n",
      "  has_raised = await self.run_ast_nodes(code_ast.body, cell_name,\n"
     ]
    }
   ],
   "source": [
    "df = pd.read_csv('sephora_data_cleaned.csv')"
   ]
  },
  {
   "cell_type": "code",
   "execution_count": 47,
   "id": "9a617efc",
   "metadata": {},
   "outputs": [
    {
     "data": {
      "text/html": [
       "<div>\n",
       "<style scoped>\n",
       "    .dataframe tbody tr th:only-of-type {\n",
       "        vertical-align: middle;\n",
       "    }\n",
       "\n",
       "    .dataframe tbody tr th {\n",
       "        vertical-align: top;\n",
       "    }\n",
       "\n",
       "    .dataframe thead th {\n",
       "        text-align: right;\n",
       "    }\n",
       "</style>\n",
       "<table border=\"1\" class=\"dataframe\">\n",
       "  <thead>\n",
       "    <tr style=\"text-align: right;\">\n",
       "      <th></th>\n",
       "      <th>item_id</th>\n",
       "      <th>product</th>\n",
       "      <th>brand</th>\n",
       "      <th>total_reviews</th>\n",
       "      <th>user_name</th>\n",
       "      <th>review_title</th>\n",
       "      <th>review_text</th>\n",
       "      <th>review_rating</th>\n",
       "      <th>helpful_votes</th>\n",
       "      <th>not_helpful_votes</th>\n",
       "      <th>verified_purchase</th>\n",
       "      <th>sephora_employee</th>\n",
       "      <th>incentivized</th>\n",
       "      <th>inc_ver</th>\n",
       "      <th>review</th>\n",
       "    </tr>\n",
       "  </thead>\n",
       "  <tbody>\n",
       "    <tr>\n",
       "      <th>33787</th>\n",
       "      <td>2229839</td>\n",
       "      <td>Noni Bright Vitamin C Serum</td>\n",
       "      <td>KORA Organics</td>\n",
       "      <td>381</td>\n",
       "      <td>FariaT</td>\n",
       "      <td>Organic Love!</td>\n",
       "      <td>I developed organic love for Kora products. Th...</td>\n",
       "      <td>5.0</td>\n",
       "      <td>0.0</td>\n",
       "      <td>0.0</td>\n",
       "      <td>0</td>\n",
       "      <td>0</td>\n",
       "      <td>1</td>\n",
       "      <td>Incentivized\\nNot verified</td>\n",
       "      <td>Organic Love!. I developed organic love for Ko...</td>\n",
       "    </tr>\n",
       "  </tbody>\n",
       "</table>\n",
       "</div>"
      ],
      "text/plain": [
       "       item_id                      product          brand total_reviews  \\\n",
       "33787  2229839  Noni Bright Vitamin C Serum  KORA Organics           381   \n",
       "\n",
       "      user_name   review_title  \\\n",
       "33787    FariaT  Organic Love!   \n",
       "\n",
       "                                             review_text  review_rating  \\\n",
       "33787  I developed organic love for Kora products. Th...            5.0   \n",
       "\n",
       "       helpful_votes  not_helpful_votes  verified_purchase  sephora_employee  \\\n",
       "33787            0.0                0.0                  0                 0   \n",
       "\n",
       "       incentivized                     inc_ver  \\\n",
       "33787             1  Incentivized\\nNot verified   \n",
       "\n",
       "                                                  review  \n",
       "33787  Organic Love!. I developed organic love for Ko...  "
      ]
     },
     "execution_count": 47,
     "metadata": {},
     "output_type": "execute_result"
    }
   ],
   "source": [
    "df.sample(1)"
   ]
  },
  {
   "cell_type": "code",
   "execution_count": 48,
   "id": "254593a5",
   "metadata": {},
   "outputs": [],
   "source": [
    "X = df[['review']]\n",
    "y = df['incentivized']\n",
    "X_train, X_test, y_train, y_test = train_test_split(X, y, test_size = 0.2, random_state = 42)"
   ]
  },
  {
   "cell_type": "code",
   "execution_count": 49,
   "id": "7910769d",
   "metadata": {},
   "outputs": [],
   "source": [
    "# X = df['review_text'].to_numpy()\n",
    "# y = df['incentivized'].to_numpy()"
   ]
  },
  {
   "cell_type": "code",
   "execution_count": 50,
   "id": "e381917f",
   "metadata": {},
   "outputs": [
    {
     "data": {
      "text/plain": [
       "(66348, 1)"
      ]
     },
     "execution_count": 50,
     "metadata": {},
     "output_type": "execute_result"
    }
   ],
   "source": [
    "X_train.shape"
   ]
  },
  {
   "cell_type": "markdown",
   "id": "dccdc19b",
   "metadata": {},
   "source": [
    "#### Random Basline"
   ]
  },
  {
   "cell_type": "code",
   "execution_count": 51,
   "id": "87670bc9",
   "metadata": {},
   "outputs": [],
   "source": [
    "y_pred_rand = np.random.randint(low=0, high=2, size=(len(X_test)))"
   ]
  },
  {
   "cell_type": "code",
   "execution_count": 52,
   "id": "bce287c5",
   "metadata": {},
   "outputs": [],
   "source": [
    "metrics_rand = precision_recall_fscore_support(y_test, y_pred_rand, average=\"weighted\")"
   ]
  },
  {
   "cell_type": "markdown",
   "id": "541c889e",
   "metadata": {},
   "source": [
    "#### Most Frequent Class"
   ]
  },
  {
   "cell_type": "code",
   "execution_count": 53,
   "id": "6d9f9132",
   "metadata": {},
   "outputs": [],
   "source": [
    "dummy_clf = DummyClassifier(strategy=\"most_frequent\")\n",
    "dummy_clf.fit(X_train, y_train)\n",
    "y_pred_freq = dummy_clf.predict(X_test)"
   ]
  },
  {
   "cell_type": "code",
   "execution_count": 54,
   "id": "ee1a1a2c",
   "metadata": {},
   "outputs": [
    {
     "name": "stderr",
     "output_type": "stream",
     "text": [
      "/home/michengz/.local/lib/python3.8/site-packages/sklearn/metrics/_classification.py:1221: UndefinedMetricWarning: Precision and F-score are ill-defined and being set to 0.0 in labels with no predicted samples. Use `zero_division` parameter to control this behavior.\n",
      "  _warn_prf(average, modifier, msg_start, len(result))\n"
     ]
    }
   ],
   "source": [
    "metrics_freq = precision_recall_fscore_support(y_test, y_pred_freq, average=\"weighted\")"
   ]
  },
  {
   "cell_type": "markdown",
   "id": "2d54830c",
   "metadata": {},
   "source": [
    "#### Review Rating Threshold"
   ]
  },
  {
   "cell_type": "code",
   "execution_count": 55,
   "id": "f61fcd57",
   "metadata": {},
   "outputs": [],
   "source": [
    "y_pred_thres = df['review_rating'] == 5\n",
    "true_y = df['incentivized'] == 1"
   ]
  },
  {
   "cell_type": "code",
   "execution_count": 56,
   "id": "fbf4ba72",
   "metadata": {},
   "outputs": [],
   "source": [
    "metrics_thres = precision_recall_fscore_support(true_y, y_pred_thres, average=\"weighted\")"
   ]
  },
  {
   "cell_type": "code",
   "execution_count": 58,
   "id": "d6fed741",
   "metadata": {},
   "outputs": [
    {
     "data": {
      "text/html": [
       "<div>\n",
       "<style scoped>\n",
       "    .dataframe tbody tr th:only-of-type {\n",
       "        vertical-align: middle;\n",
       "    }\n",
       "\n",
       "    .dataframe tbody tr th {\n",
       "        vertical-align: top;\n",
       "    }\n",
       "\n",
       "    .dataframe thead th {\n",
       "        text-align: right;\n",
       "    }\n",
       "</style>\n",
       "<table border=\"1\" class=\"dataframe\">\n",
       "  <thead>\n",
       "    <tr style=\"text-align: right;\">\n",
       "      <th></th>\n",
       "      <th>Most Frequent</th>\n",
       "      <th>Random</th>\n",
       "      <th>Rating Threshold</th>\n",
       "    </tr>\n",
       "    <tr>\n",
       "      <th>Metrics</th>\n",
       "      <th></th>\n",
       "      <th></th>\n",
       "      <th></th>\n",
       "    </tr>\n",
       "  </thead>\n",
       "  <tbody>\n",
       "    <tr>\n",
       "      <th>F1</th>\n",
       "      <td>0.708662</td>\n",
       "      <td>0.550056</td>\n",
       "      <td>0.645743</td>\n",
       "    </tr>\n",
       "    <tr>\n",
       "      <th>Accuracy</th>\n",
       "      <td>0.798228</td>\n",
       "      <td>0.501266</td>\n",
       "      <td>0.614679</td>\n",
       "    </tr>\n",
       "  </tbody>\n",
       "</table>\n",
       "</div>"
      ],
      "text/plain": [
       "          Most Frequent    Random  Rating Threshold\n",
       "Metrics                                            \n",
       "F1             0.708662  0.550056          0.645743\n",
       "Accuracy       0.798228  0.501266          0.614679"
      ]
     },
     "execution_count": 58,
     "metadata": {},
     "output_type": "execute_result"
    }
   ],
   "source": [
    "df_score = pd.DataFrame({'Metrics':['F1','Accuracy'],\n",
    "                    'Most Frequent':[metrics_freq[2],accuracy_score(y_test,y_pred_freq)],\n",
    "                    'Random':[metrics_rand[2],accuracy_score(y_test,y_pred_rand)],\n",
    "                    'Rating Threshold':[metrics_thres[2],accuracy_score(true_y,y_pred_thres)]})\n",
    "df_score = df_score.set_index('Metrics')\n",
    "df_score "
   ]
  },
  {
   "cell_type": "code",
   "execution_count": 60,
   "id": "d88ba3a8",
   "metadata": {},
   "outputs": [],
   "source": [
    "# dfi.export(df_score, 'baseline_df.png')"
   ]
  },
  {
   "cell_type": "markdown",
   "id": "0df87cf7",
   "metadata": {},
   "source": [
    "# Tokenization"
   ]
  },
  {
   "cell_type": "code",
   "execution_count": 61,
   "id": "2ec3025e",
   "metadata": {},
   "outputs": [],
   "source": [
    "import string \n",
    "import nltk\n",
    "from nltk.stem import WordNetLemmatizer\n",
    "from nltk.tokenize import TweetTokenizer\n",
    "from nltk.corpus import stopwords\n",
    "from sklearn.feature_extraction.text import TfidfVectorizer, CountVectorizer, TfidfTransformer\n"
   ]
  },
  {
   "cell_type": "code",
   "execution_count": 62,
   "id": "c3dab10e",
   "metadata": {},
   "outputs": [],
   "source": [
    "X_train_lst = X_train['review'].tolist()"
   ]
  },
  {
   "cell_type": "code",
   "execution_count": 63,
   "id": "2129038a",
   "metadata": {},
   "outputs": [],
   "source": [
    "X_test_lst = X_test['review'].tolist()"
   ]
  },
  {
   "cell_type": "code",
   "execution_count": 64,
   "id": "b768b15c",
   "metadata": {},
   "outputs": [],
   "source": [
    "tokenizer = TweetTokenizer()\n",
    "lemmatizer = WordNetLemmatizer()\n",
    "puctuations = set(string.punctuation)\n",
    "puctuations.update(['..','’','...','…']) \n",
    "\n",
    "def tokenize(text):\n",
    "    tokenized_words = []\n",
    "    word_lst = tokenizer.tokenize(text) # tokenize\n",
    "    for word in word_lst:\n",
    "        word = word.lower()\n",
    "        if word not in puctuations: # remove punctuations\n",
    "            lemmatized = lemmatizer.lemmatize(word) # lemmatize\n",
    "            tokenized_words.append(lemmatized)\n",
    "    return tokenized_words"
   ]
  },
  {
   "cell_type": "code",
   "execution_count": 65,
   "id": "cf016c37",
   "metadata": {},
   "outputs": [
    {
     "data": {
      "text/plain": [
       "0        [too, thick, and, sticky, more, like, a, stick...\n",
       "1        [been, using, this, cream, for, over, 30, year...\n",
       "2        [the, best, for, night, use, this, product, ha...\n",
       "3        [worth, every, dollar, i, used, this, in, my, ...\n",
       "4        [just, ok, some, what, disappointing, for, the...\n",
       "                               ...                        \n",
       "82931    [i, have, used, this, product, morning, and, n...\n",
       "82932    [i, love, this, serum, okay, just, wow, i, lov...\n",
       "82933    [just, wowwww, i, have, been, using, this, in,...\n",
       "82934    [all, aboard, the, hydration, train, i, have, ...\n",
       "82935    [amazing, serum, i, have, dry, skin, and, this...\n",
       "Name: review, Length: 82936, dtype: object"
      ]
     },
     "execution_count": 65,
     "metadata": {},
     "output_type": "execute_result"
    }
   ],
   "source": [
    "df['review'].apply(tokenize)"
   ]
  },
  {
   "cell_type": "code",
   "execution_count": 66,
   "id": "72c93190",
   "metadata": {},
   "outputs": [
    {
     "data": {
      "text/plain": [
       "5497650"
      ]
     },
     "execution_count": 66,
     "metadata": {},
     "output_type": "execute_result"
    }
   ],
   "source": [
    "# Total number of words we are going work with\n",
    "df['review'].apply(tokenize).apply(lambda x: len(x)).sum()"
   ]
  },
  {
   "cell_type": "markdown",
   "id": "9d8cf58f",
   "metadata": {},
   "source": [
    "# TF-IDF Tranformation"
   ]
  },
  {
   "cell_type": "markdown",
   "id": "8c9842fc",
   "metadata": {},
   "source": [
    "References:\n",
    "- https://scikit-learn.org/stable/modules/generated/sklearn.feature_extraction.text.TfidfVectorizer.html"
   ]
  },
  {
   "cell_type": "code",
   "execution_count": 67,
   "id": "47b77077",
   "metadata": {},
   "outputs": [
    {
     "name": "stderr",
     "output_type": "stream",
     "text": [
      "/home/michengz/.local/lib/python3.8/site-packages/sklearn/feature_extraction/text.py:383: UserWarning: Your stop_words may be inconsistent with your preprocessing. Tokenizing the stop words generated tokens ['ha', 'le', 'u', 'wa'] not in stop_words.\n",
      "  warnings.warn('Your stop_words may be inconsistent with '\n"
     ]
    }
   ],
   "source": [
    "tfidf = TfidfVectorizer(tokenizer = tokenize, stop_words = 'english')\n",
    "X_train_transformed = tfidf.fit_transform(X_train['review'].to_list())\n",
    "X_test_transformed = tfidf.transform(X_test['review'].to_list())"
   ]
  },
  {
   "cell_type": "code",
   "execution_count": 68,
   "id": "79c33430",
   "metadata": {},
   "outputs": [
    {
     "data": {
      "text/plain": [
       "<66348x23785 sparse matrix of type '<class 'numpy.float64'>'\n",
       "\twith 1818108 stored elements in Compressed Sparse Row format>"
      ]
     },
     "execution_count": 68,
     "metadata": {},
     "output_type": "execute_result"
    }
   ],
   "source": [
    "X_train_transformed"
   ]
  },
  {
   "cell_type": "code",
   "execution_count": 69,
   "id": "57de5b6b",
   "metadata": {},
   "outputs": [
    {
     "data": {
      "text/plain": [
       "<16588x23785 sparse matrix of type '<class 'numpy.float64'>'\n",
       "\twith 453554 stored elements in Compressed Sparse Row format>"
      ]
     },
     "execution_count": 69,
     "metadata": {},
     "output_type": "execute_result"
    }
   ],
   "source": [
    "X_test_transformed"
   ]
  },
  {
   "cell_type": "code",
   "execution_count": 70,
   "id": "a80caf07",
   "metadata": {},
   "outputs": [],
   "source": [
    "#tfidf.get_feature_names()"
   ]
  },
  {
   "cell_type": "code",
   "execution_count": 71,
   "id": "d93ca416",
   "metadata": {},
   "outputs": [],
   "source": [
    "tfidf_bi = TfidfVectorizer(tokenizer = tokenize, stop_words = 'english', ngram_range = (1, 2))\n",
    "X_train_transformed_bi = tfidf_bi.fit_transform(X_train['review'].to_list())\n",
    "X_test_transformed_bi = tfidf_bi.transform(X_test['review'].to_list())"
   ]
  },
  {
   "cell_type": "code",
   "execution_count": 72,
   "id": "25dc9b51",
   "metadata": {},
   "outputs": [
    {
     "data": {
      "text/plain": [
       "<66348x517330 sparse matrix of type '<class 'numpy.float64'>'\n",
       "\twith 3857160 stored elements in Compressed Sparse Row format>"
      ]
     },
     "execution_count": 72,
     "metadata": {},
     "output_type": "execute_result"
    }
   ],
   "source": [
    "X_train_transformed_bi"
   ]
  },
  {
   "cell_type": "code",
   "execution_count": 73,
   "id": "c09470cd",
   "metadata": {},
   "outputs": [
    {
     "data": {
      "text/plain": [
       "<16588x517330 sparse matrix of type '<class 'numpy.float64'>'\n",
       "\twith 887977 stored elements in Compressed Sparse Row format>"
      ]
     },
     "execution_count": 73,
     "metadata": {},
     "output_type": "execute_result"
    }
   ],
   "source": [
    "X_test_transformed_bi"
   ]
  },
  {
   "cell_type": "code",
   "execution_count": 74,
   "id": "c75bcbf6",
   "metadata": {},
   "outputs": [],
   "source": [
    "#tfidf_bi.get_feature_names()"
   ]
  },
  {
   "cell_type": "markdown",
   "id": "2cea678e",
   "metadata": {},
   "source": [
    "# Naive Bayes"
   ]
  },
  {
   "cell_type": "markdown",
   "id": "0e368580",
   "metadata": {},
   "source": [
    "References:\n",
    "- https://scikit-learn.org/stable/modules/naive_bayes.html\n",
    "- https://scikit-learn.org/stable/tutorial/text_analytics/working_with_text_data.html"
   ]
  },
  {
   "cell_type": "code",
   "execution_count": 75,
   "id": "27782995",
   "metadata": {},
   "outputs": [],
   "source": [
    "from sklearn.naive_bayes import MultinomialNB\n",
    "from sklearn import metrics\n",
    "from sklearn.pipeline import Pipeline\n",
    "from time import time"
   ]
  },
  {
   "cell_type": "code",
   "execution_count": 76,
   "id": "10c5ba21",
   "metadata": {},
   "outputs": [
    {
     "name": "stdout",
     "output_type": "stream",
     "text": [
      "train time: 0.025s\n"
     ]
    }
   ],
   "source": [
    "t = time()\n",
    "\n",
    "naive_bayes_classifier = MultinomialNB()\n",
    "naive_bayes_classifier.fit(X_train_transformed, y_train)\n",
    "\n",
    "training_time = time() - t\n",
    "print(\"train time: %0.3fs\" % training_time)"
   ]
  },
  {
   "cell_type": "code",
   "execution_count": 77,
   "id": "9ffa7a6a",
   "metadata": {},
   "outputs": [
    {
     "data": {
      "text/plain": [
       "array([1, 1, 1, ..., 1, 1, 1])"
      ]
     },
     "execution_count": 77,
     "metadata": {},
     "output_type": "execute_result"
    }
   ],
   "source": [
    "y_pred_nb = naive_bayes_classifier.predict(X_test_transformed)\n",
    "y_pred_nb"
   ]
  },
  {
   "cell_type": "code",
   "execution_count": 78,
   "id": "d8a7794d",
   "metadata": {},
   "outputs": [
    {
     "data": {
      "text/plain": [
       "array([[0.03552748, 0.96447252],\n",
       "       [0.07944555, 0.92055445],\n",
       "       [0.02318616, 0.97681384],\n",
       "       ...,\n",
       "       [0.02688494, 0.97311506],\n",
       "       [0.06384224, 0.93615776],\n",
       "       [0.31090004, 0.68909996]])"
      ]
     },
     "execution_count": 78,
     "metadata": {},
     "output_type": "execute_result"
    }
   ],
   "source": [
    "y_proba_nb = naive_bayes_classifier.predict_proba(X_test_transformed)\n",
    "y_proba_nb"
   ]
  },
  {
   "cell_type": "code",
   "execution_count": 79,
   "id": "b1a130f1",
   "metadata": {},
   "outputs": [
    {
     "data": {
      "text/plain": [
       "0.8207137689896311"
      ]
     },
     "execution_count": 79,
     "metadata": {},
     "output_type": "execute_result"
    }
   ],
   "source": [
    "score1 = metrics.accuracy_score(y_test, y_pred_nb)\n",
    "score1 "
   ]
  },
  {
   "cell_type": "code",
   "execution_count": 80,
   "id": "da27aad7",
   "metadata": {},
   "outputs": [
    {
     "data": {
      "text/plain": [
       "(0.8267791147328402, 0.8207137689896311, 0.764012573996722, None)"
      ]
     },
     "execution_count": 80,
     "metadata": {},
     "output_type": "execute_result"
    }
   ],
   "source": [
    "metrics_NB = precision_recall_fscore_support(y_test, y_pred_nb, average=\"weighted\")\n",
    "metrics_NB"
   ]
  },
  {
   "cell_type": "code",
   "execution_count": 81,
   "id": "ecc187ca",
   "metadata": {},
   "outputs": [
    {
     "data": {
      "text/html": [
       "<div>\n",
       "<style scoped>\n",
       "    .dataframe tbody tr th:only-of-type {\n",
       "        vertical-align: middle;\n",
       "    }\n",
       "\n",
       "    .dataframe tbody tr th {\n",
       "        vertical-align: top;\n",
       "    }\n",
       "\n",
       "    .dataframe thead th {\n",
       "        text-align: right;\n",
       "    }\n",
       "</style>\n",
       "<table border=\"1\" class=\"dataframe\">\n",
       "  <thead>\n",
       "    <tr style=\"text-align: right;\">\n",
       "      <th></th>\n",
       "      <th>Most Frequent</th>\n",
       "      <th>Random</th>\n",
       "      <th>Rating Threshold</th>\n",
       "      <th>Naive Bayes</th>\n",
       "    </tr>\n",
       "    <tr>\n",
       "      <th>Metrics</th>\n",
       "      <th></th>\n",
       "      <th></th>\n",
       "      <th></th>\n",
       "      <th></th>\n",
       "    </tr>\n",
       "  </thead>\n",
       "  <tbody>\n",
       "    <tr>\n",
       "      <th>F1</th>\n",
       "      <td>0.708662</td>\n",
       "      <td>0.550056</td>\n",
       "      <td>0.645743</td>\n",
       "      <td>0.764013</td>\n",
       "    </tr>\n",
       "    <tr>\n",
       "      <th>Accuracy</th>\n",
       "      <td>0.798228</td>\n",
       "      <td>0.501266</td>\n",
       "      <td>0.614679</td>\n",
       "      <td>0.820714</td>\n",
       "    </tr>\n",
       "  </tbody>\n",
       "</table>\n",
       "</div>"
      ],
      "text/plain": [
       "          Most Frequent    Random  Rating Threshold  Naive Bayes\n",
       "Metrics                                                         \n",
       "F1             0.708662  0.550056          0.645743     0.764013\n",
       "Accuracy       0.798228  0.501266          0.614679     0.820714"
      ]
     },
     "execution_count": 81,
     "metadata": {},
     "output_type": "execute_result"
    }
   ],
   "source": [
    "df_score['Naive Bayes'] = [metrics_NB[2],accuracy_score(y_test, y_pred_nb)]\n",
    "df_score"
   ]
  },
  {
   "cell_type": "code",
   "execution_count": 82,
   "id": "0305054a",
   "metadata": {},
   "outputs": [
    {
     "name": "stdout",
     "output_type": "stream",
     "text": [
      "train time: 0.062s\n"
     ]
    }
   ],
   "source": [
    "t = time()\n",
    "\n",
    "naive_bayes_classifier = MultinomialNB()\n",
    "naive_bayes_classifier.fit(X_train_transformed_bi, y_train)\n",
    "\n",
    "training_time = time() - t\n",
    "print(\"train time: %0.3fs\" % training_time)"
   ]
  },
  {
   "cell_type": "code",
   "execution_count": 83,
   "id": "31e54f93",
   "metadata": {},
   "outputs": [
    {
     "data": {
      "text/plain": [
       "array([1, 1, 1, ..., 1, 1, 1])"
      ]
     },
     "execution_count": 83,
     "metadata": {},
     "output_type": "execute_result"
    }
   ],
   "source": [
    "# Training on Bi-gram Based TF-IDF\n",
    "y_pred_nb_bi = naive_bayes_classifier.predict(X_test_transformed_bi)\n",
    "y_pred_nb_bi"
   ]
  },
  {
   "cell_type": "code",
   "execution_count": 84,
   "id": "32a18ca3",
   "metadata": {},
   "outputs": [
    {
     "data": {
      "text/html": [
       "<div>\n",
       "<style scoped>\n",
       "    .dataframe tbody tr th:only-of-type {\n",
       "        vertical-align: middle;\n",
       "    }\n",
       "\n",
       "    .dataframe tbody tr th {\n",
       "        vertical-align: top;\n",
       "    }\n",
       "\n",
       "    .dataframe thead th {\n",
       "        text-align: right;\n",
       "    }\n",
       "</style>\n",
       "<table border=\"1\" class=\"dataframe\">\n",
       "  <thead>\n",
       "    <tr style=\"text-align: right;\">\n",
       "      <th></th>\n",
       "      <th>Most Frequent</th>\n",
       "      <th>Random</th>\n",
       "      <th>Rating Threshold</th>\n",
       "      <th>Naive Bayes</th>\n",
       "      <th>Naive Bayes (Bigram)</th>\n",
       "    </tr>\n",
       "    <tr>\n",
       "      <th>Metrics</th>\n",
       "      <th></th>\n",
       "      <th></th>\n",
       "      <th></th>\n",
       "      <th></th>\n",
       "      <th></th>\n",
       "    </tr>\n",
       "  </thead>\n",
       "  <tbody>\n",
       "    <tr>\n",
       "      <th>F1</th>\n",
       "      <td>0.708662</td>\n",
       "      <td>0.550056</td>\n",
       "      <td>0.645743</td>\n",
       "      <td>0.764013</td>\n",
       "      <td>0.710101</td>\n",
       "    </tr>\n",
       "    <tr>\n",
       "      <th>Accuracy</th>\n",
       "      <td>0.798228</td>\n",
       "      <td>0.501266</td>\n",
       "      <td>0.614679</td>\n",
       "      <td>0.820714</td>\n",
       "      <td>0.798830</td>\n",
       "    </tr>\n",
       "  </tbody>\n",
       "</table>\n",
       "</div>"
      ],
      "text/plain": [
       "          Most Frequent    Random  Rating Threshold  Naive Bayes  \\\n",
       "Metrics                                                            \n",
       "F1             0.708662  0.550056          0.645743     0.764013   \n",
       "Accuracy       0.798228  0.501266          0.614679     0.820714   \n",
       "\n",
       "          Naive Bayes (Bigram)  \n",
       "Metrics                         \n",
       "F1                    0.710101  \n",
       "Accuracy              0.798830  "
      ]
     },
     "execution_count": 84,
     "metadata": {},
     "output_type": "execute_result"
    }
   ],
   "source": [
    "metrics_NB_bi = precision_recall_fscore_support(y_test, y_pred_nb_bi, average=\"weighted\")\n",
    "df_score['Naive Bayes (Bigram)'] = [metrics_NB_bi[2],accuracy_score(y_test, y_pred_nb_bi)]\n",
    "df_score"
   ]
  },
  {
   "cell_type": "markdown",
   "id": "b628d079",
   "metadata": {},
   "source": [
    "# SVM"
   ]
  },
  {
   "cell_type": "markdown",
   "id": "4d75aa4e",
   "metadata": {},
   "source": [
    "References:\n",
    "- https://scikit-learn.org/stable/modules/generated/sklearn.linear_model.SGDClassifier.html"
   ]
  },
  {
   "cell_type": "code",
   "execution_count": 85,
   "id": "dc58fae2",
   "metadata": {},
   "outputs": [],
   "source": [
    "from sklearn.linear_model import SGDClassifier"
   ]
  },
  {
   "cell_type": "code",
   "execution_count": 86,
   "id": "9965da49",
   "metadata": {},
   "outputs": [
    {
     "name": "stdout",
     "output_type": "stream",
     "text": [
      "train time: 0.173s\n"
     ]
    }
   ],
   "source": [
    "t = time()\n",
    "\n",
    "sgd_classifier = SGDClassifier(loss='hinge', random_state = 42)\n",
    "sgd_classifier.fit(X_train_transformed, y_train)\n",
    "\n",
    "training_time = time() - t\n",
    "print(\"train time: %0.3fs\" % training_time)"
   ]
  },
  {
   "cell_type": "code",
   "execution_count": 87,
   "id": "b84274cb",
   "metadata": {},
   "outputs": [
    {
     "data": {
      "text/plain": [
       "array([1, 1, 1, ..., 1, 1, 1])"
      ]
     },
     "execution_count": 87,
     "metadata": {},
     "output_type": "execute_result"
    }
   ],
   "source": [
    "y_pred_svm = sgd_classifier.predict(X_test_transformed)\n",
    "y_pred_svm"
   ]
  },
  {
   "cell_type": "code",
   "execution_count": 88,
   "id": "d0288e9c",
   "metadata": {},
   "outputs": [
    {
     "data": {
      "text/plain": [
       "array([1.38245349, 1.21043898, 2.18021004, ..., 1.89978784, 1.05465664,\n",
       "       0.14146681])"
      ]
     },
     "execution_count": 88,
     "metadata": {},
     "output_type": "execute_result"
    }
   ],
   "source": [
    "y_proba_svm = sgd_classifier.decision_function(X_test_transformed)\n",
    "y_proba_svm"
   ]
  },
  {
   "cell_type": "code",
   "execution_count": 89,
   "id": "ad6f020d",
   "metadata": {},
   "outputs": [
    {
     "data": {
      "text/html": [
       "<div>\n",
       "<style scoped>\n",
       "    .dataframe tbody tr th:only-of-type {\n",
       "        vertical-align: middle;\n",
       "    }\n",
       "\n",
       "    .dataframe tbody tr th {\n",
       "        vertical-align: top;\n",
       "    }\n",
       "\n",
       "    .dataframe thead th {\n",
       "        text-align: right;\n",
       "    }\n",
       "</style>\n",
       "<table border=\"1\" class=\"dataframe\">\n",
       "  <thead>\n",
       "    <tr style=\"text-align: right;\">\n",
       "      <th></th>\n",
       "      <th>Most Frequent</th>\n",
       "      <th>Random</th>\n",
       "      <th>Rating Threshold</th>\n",
       "      <th>Naive Bayes</th>\n",
       "      <th>Naive Bayes (Bigram)</th>\n",
       "      <th>SVM</th>\n",
       "    </tr>\n",
       "    <tr>\n",
       "      <th>Metrics</th>\n",
       "      <th></th>\n",
       "      <th></th>\n",
       "      <th></th>\n",
       "      <th></th>\n",
       "      <th></th>\n",
       "      <th></th>\n",
       "    </tr>\n",
       "  </thead>\n",
       "  <tbody>\n",
       "    <tr>\n",
       "      <th>F1</th>\n",
       "      <td>0.708662</td>\n",
       "      <td>0.550056</td>\n",
       "      <td>0.645743</td>\n",
       "      <td>0.764013</td>\n",
       "      <td>0.710101</td>\n",
       "      <td>0.838749</td>\n",
       "    </tr>\n",
       "    <tr>\n",
       "      <th>Accuracy</th>\n",
       "      <td>0.798228</td>\n",
       "      <td>0.501266</td>\n",
       "      <td>0.614679</td>\n",
       "      <td>0.820714</td>\n",
       "      <td>0.798830</td>\n",
       "      <td>0.860080</td>\n",
       "    </tr>\n",
       "  </tbody>\n",
       "</table>\n",
       "</div>"
      ],
      "text/plain": [
       "          Most Frequent    Random  Rating Threshold  Naive Bayes  \\\n",
       "Metrics                                                            \n",
       "F1             0.708662  0.550056          0.645743     0.764013   \n",
       "Accuracy       0.798228  0.501266          0.614679     0.820714   \n",
       "\n",
       "          Naive Bayes (Bigram)       SVM  \n",
       "Metrics                                   \n",
       "F1                    0.710101  0.838749  \n",
       "Accuracy              0.798830  0.860080  "
      ]
     },
     "execution_count": 89,
     "metadata": {},
     "output_type": "execute_result"
    }
   ],
   "source": [
    "metrics_svm = precision_recall_fscore_support(y_test, y_pred_svm, average=\"weighted\")\n",
    "df_score['SVM'] = [metrics_svm[2],accuracy_score(y_test, y_pred_svm)]\n",
    "df_score"
   ]
  },
  {
   "cell_type": "code",
   "execution_count": 90,
   "id": "141fc543",
   "metadata": {},
   "outputs": [
    {
     "name": "stdout",
     "output_type": "stream",
     "text": [
      "train time: 0.299s\n"
     ]
    }
   ],
   "source": [
    "t = time()\n",
    "\n",
    "sgd_classifier = SGDClassifier(loss = 'hinge', penalty = 'l2', random_state = 42)\n",
    "sgd_classifier.fit(X_train_transformed_bi, y_train)\n",
    "\n",
    "training_time = time() - t\n",
    "print(\"train time: %0.3fs\" % training_time)"
   ]
  },
  {
   "cell_type": "code",
   "execution_count": 91,
   "id": "1c801328",
   "metadata": {},
   "outputs": [
    {
     "data": {
      "text/plain": [
       "array([1, 1, 1, ..., 1, 1, 1])"
      ]
     },
     "execution_count": 91,
     "metadata": {},
     "output_type": "execute_result"
    }
   ],
   "source": [
    "y_pred_svm_bi = sgd_classifier.predict(X_test_transformed_bi)\n",
    "y_pred_svm_bi"
   ]
  },
  {
   "cell_type": "code",
   "execution_count": 92,
   "id": "d181b525",
   "metadata": {},
   "outputs": [
    {
     "data": {
      "text/html": [
       "<div>\n",
       "<style scoped>\n",
       "    .dataframe tbody tr th:only-of-type {\n",
       "        vertical-align: middle;\n",
       "    }\n",
       "\n",
       "    .dataframe tbody tr th {\n",
       "        vertical-align: top;\n",
       "    }\n",
       "\n",
       "    .dataframe thead th {\n",
       "        text-align: right;\n",
       "    }\n",
       "</style>\n",
       "<table border=\"1\" class=\"dataframe\">\n",
       "  <thead>\n",
       "    <tr style=\"text-align: right;\">\n",
       "      <th></th>\n",
       "      <th>Most Frequent</th>\n",
       "      <th>Random</th>\n",
       "      <th>Rating Threshold</th>\n",
       "      <th>Naive Bayes</th>\n",
       "      <th>Naive Bayes (Bigram)</th>\n",
       "      <th>SVM</th>\n",
       "      <th>SVM (Bigram)</th>\n",
       "    </tr>\n",
       "    <tr>\n",
       "      <th>Metrics</th>\n",
       "      <th></th>\n",
       "      <th></th>\n",
       "      <th></th>\n",
       "      <th></th>\n",
       "      <th></th>\n",
       "      <th></th>\n",
       "      <th></th>\n",
       "    </tr>\n",
       "  </thead>\n",
       "  <tbody>\n",
       "    <tr>\n",
       "      <th>F1</th>\n",
       "      <td>0.708662</td>\n",
       "      <td>0.550056</td>\n",
       "      <td>0.645743</td>\n",
       "      <td>0.764013</td>\n",
       "      <td>0.710101</td>\n",
       "      <td>0.838749</td>\n",
       "      <td>0.792707</td>\n",
       "    </tr>\n",
       "    <tr>\n",
       "      <th>Accuracy</th>\n",
       "      <td>0.798228</td>\n",
       "      <td>0.501266</td>\n",
       "      <td>0.614679</td>\n",
       "      <td>0.820714</td>\n",
       "      <td>0.798830</td>\n",
       "      <td>0.860080</td>\n",
       "      <td>0.835483</td>\n",
       "    </tr>\n",
       "  </tbody>\n",
       "</table>\n",
       "</div>"
      ],
      "text/plain": [
       "          Most Frequent    Random  Rating Threshold  Naive Bayes  \\\n",
       "Metrics                                                            \n",
       "F1             0.708662  0.550056          0.645743     0.764013   \n",
       "Accuracy       0.798228  0.501266          0.614679     0.820714   \n",
       "\n",
       "          Naive Bayes (Bigram)       SVM  SVM (Bigram)  \n",
       "Metrics                                                 \n",
       "F1                    0.710101  0.838749      0.792707  \n",
       "Accuracy              0.798830  0.860080      0.835483  "
      ]
     },
     "execution_count": 92,
     "metadata": {},
     "output_type": "execute_result"
    }
   ],
   "source": [
    "metrics_svm_bi = precision_recall_fscore_support(y_test, y_pred_svm_bi, average=\"weighted\")\n",
    "df_score['SVM (Bigram)'] = [metrics_svm_bi[2],accuracy_score(y_test, y_pred_svm_bi)]\n",
    "df_score"
   ]
  },
  {
   "cell_type": "markdown",
   "id": "ab248641",
   "metadata": {},
   "source": [
    "# Logistic Regression"
   ]
  },
  {
   "cell_type": "markdown",
   "id": "ba20fa89",
   "metadata": {},
   "source": [
    "References:\n",
    "- http://michael-harmon.com/blog/NLP2.html"
   ]
  },
  {
   "cell_type": "code",
   "execution_count": 93,
   "id": "5fa3b9de",
   "metadata": {},
   "outputs": [],
   "source": [
    "from sklearn.linear_model import LogisticRegression"
   ]
  },
  {
   "cell_type": "code",
   "execution_count": 94,
   "id": "7ca7505a",
   "metadata": {},
   "outputs": [],
   "source": [
    "log_reg = Pipeline([\n",
    "        (\"vect\", TfidfVectorizer(tokenizer = tokenize, stop_words = 'english')),\n",
    "        (\"tfidf\", TfidfTransformer()),\n",
    "        (\"clf\", LogisticRegression(solver='liblinear')),\n",
    "    ])"
   ]
  },
  {
   "cell_type": "code",
   "execution_count": 95,
   "id": "ebb5cb68",
   "metadata": {},
   "outputs": [
    {
     "name": "stderr",
     "output_type": "stream",
     "text": [
      "/home/michengz/.local/lib/python3.8/site-packages/sklearn/feature_extraction/text.py:383: UserWarning: Your stop_words may be inconsistent with your preprocessing. Tokenizing the stop words generated tokens ['ha', 'le', 'u', 'wa'] not in stop_words.\n",
      "  warnings.warn('Your stop_words may be inconsistent with '\n"
     ]
    },
    {
     "data": {
      "text/plain": [
       "Pipeline(steps=[('vect',\n",
       "                 TfidfVectorizer(stop_words='english',\n",
       "                                 tokenizer=<function tokenize at 0x2ba0ebb30940>)),\n",
       "                ('tfidf', TfidfTransformer()),\n",
       "                ('clf', LogisticRegression(solver='liblinear'))])"
      ]
     },
     "execution_count": 95,
     "metadata": {},
     "output_type": "execute_result"
    }
   ],
   "source": [
    "log_reg.fit(X_train['review'].to_list(), y_train)"
   ]
  },
  {
   "cell_type": "code",
   "execution_count": 96,
   "id": "2bf1385d",
   "metadata": {},
   "outputs": [
    {
     "data": {
      "text/plain": [
       "array([1, 1, 1, ..., 1, 1, 0])"
      ]
     },
     "execution_count": 96,
     "metadata": {},
     "output_type": "execute_result"
    }
   ],
   "source": [
    "y_pred_logreg = log_reg.predict(X_test['review'].to_list())\n",
    "y_pred_logreg"
   ]
  },
  {
   "cell_type": "code",
   "execution_count": 97,
   "id": "555c884d",
   "metadata": {},
   "outputs": [
    {
     "data": {
      "text/plain": [
       "array([[0.04710858, 0.95289142],\n",
       "       [0.13901075, 0.86098925],\n",
       "       [0.00720437, 0.99279563],\n",
       "       ...,\n",
       "       [0.01582981, 0.98417019],\n",
       "       [0.19482321, 0.80517679],\n",
       "       [0.53840059, 0.46159941]])"
      ]
     },
     "execution_count": 97,
     "metadata": {},
     "output_type": "execute_result"
    }
   ],
   "source": [
    "y_proba_logreg = log_reg.predict_proba(X_test['review'].to_list())\n",
    "y_proba_logreg"
   ]
  },
  {
   "cell_type": "code",
   "execution_count": 98,
   "id": "72e27060",
   "metadata": {},
   "outputs": [
    {
     "data": {
      "text/html": [
       "<div>\n",
       "<style scoped>\n",
       "    .dataframe tbody tr th:only-of-type {\n",
       "        vertical-align: middle;\n",
       "    }\n",
       "\n",
       "    .dataframe tbody tr th {\n",
       "        vertical-align: top;\n",
       "    }\n",
       "\n",
       "    .dataframe thead th {\n",
       "        text-align: right;\n",
       "    }\n",
       "</style>\n",
       "<table border=\"1\" class=\"dataframe\">\n",
       "  <thead>\n",
       "    <tr style=\"text-align: right;\">\n",
       "      <th></th>\n",
       "      <th>Most Frequent</th>\n",
       "      <th>Random</th>\n",
       "      <th>Rating Threshold</th>\n",
       "      <th>Naive Bayes</th>\n",
       "      <th>Naive Bayes (Bigram)</th>\n",
       "      <th>SVM</th>\n",
       "      <th>SVM (Bigram)</th>\n",
       "      <th>Logistic Regression</th>\n",
       "    </tr>\n",
       "    <tr>\n",
       "      <th>Metrics</th>\n",
       "      <th></th>\n",
       "      <th></th>\n",
       "      <th></th>\n",
       "      <th></th>\n",
       "      <th></th>\n",
       "      <th></th>\n",
       "      <th></th>\n",
       "      <th></th>\n",
       "    </tr>\n",
       "  </thead>\n",
       "  <tbody>\n",
       "    <tr>\n",
       "      <th>F1</th>\n",
       "      <td>0.708662</td>\n",
       "      <td>0.550056</td>\n",
       "      <td>0.645743</td>\n",
       "      <td>0.764013</td>\n",
       "      <td>0.710101</td>\n",
       "      <td>0.838749</td>\n",
       "      <td>0.792707</td>\n",
       "      <td>0.856554</td>\n",
       "    </tr>\n",
       "    <tr>\n",
       "      <th>Accuracy</th>\n",
       "      <td>0.798228</td>\n",
       "      <td>0.501266</td>\n",
       "      <td>0.614679</td>\n",
       "      <td>0.820714</td>\n",
       "      <td>0.798830</td>\n",
       "      <td>0.860080</td>\n",
       "      <td>0.835483</td>\n",
       "      <td>0.868580</td>\n",
       "    </tr>\n",
       "  </tbody>\n",
       "</table>\n",
       "</div>"
      ],
      "text/plain": [
       "          Most Frequent    Random  Rating Threshold  Naive Bayes  \\\n",
       "Metrics                                                            \n",
       "F1             0.708662  0.550056          0.645743     0.764013   \n",
       "Accuracy       0.798228  0.501266          0.614679     0.820714   \n",
       "\n",
       "          Naive Bayes (Bigram)       SVM  SVM (Bigram)  Logistic Regression  \n",
       "Metrics                                                                      \n",
       "F1                    0.710101  0.838749      0.792707             0.856554  \n",
       "Accuracy              0.798830  0.860080      0.835483             0.868580  "
      ]
     },
     "execution_count": 98,
     "metadata": {},
     "output_type": "execute_result"
    }
   ],
   "source": [
    "metrics_logreg = precision_recall_fscore_support(y_test, y_pred_logreg, average=\"weighted\")\n",
    "df_score['Logistic Regression'] = [metrics_logreg[2],accuracy_score(y_test, y_pred_logreg)]\n",
    "df_score"
   ]
  },
  {
   "cell_type": "code",
   "execution_count": 99,
   "id": "e58bf9d5",
   "metadata": {},
   "outputs": [],
   "source": [
    "log_reg_bi = Pipeline([\n",
    "        (\"vect\", TfidfVectorizer(tokenizer = tokenize, stop_words = 'english', ngram_range = (1, 2))),\n",
    "        (\"tfidf\", TfidfTransformer()),\n",
    "        (\"clf\", LogisticRegression(solver='liblinear')),\n",
    "    ])"
   ]
  },
  {
   "cell_type": "code",
   "execution_count": 100,
   "id": "142ace2b",
   "metadata": {},
   "outputs": [
    {
     "name": "stderr",
     "output_type": "stream",
     "text": [
      "/home/michengz/.local/lib/python3.8/site-packages/sklearn/feature_extraction/text.py:383: UserWarning: Your stop_words may be inconsistent with your preprocessing. Tokenizing the stop words generated tokens ['ha', 'le', 'u', 'wa'] not in stop_words.\n",
      "  warnings.warn('Your stop_words may be inconsistent with '\n"
     ]
    },
    {
     "data": {
      "text/plain": [
       "array([1, 1, 1, ..., 1, 1, 0])"
      ]
     },
     "execution_count": 100,
     "metadata": {},
     "output_type": "execute_result"
    }
   ],
   "source": [
    "log_reg_bi.fit(X_train['review'].to_list(), y_train)\n",
    "y_pred_logreg_bi = log_reg_bi.predict(X_test['review'].to_list())\n",
    "y_pred_logreg_bi"
   ]
  },
  {
   "cell_type": "code",
   "execution_count": 101,
   "id": "3d27c08e",
   "metadata": {},
   "outputs": [
    {
     "data": {
      "text/html": [
       "<div>\n",
       "<style scoped>\n",
       "    .dataframe tbody tr th:only-of-type {\n",
       "        vertical-align: middle;\n",
       "    }\n",
       "\n",
       "    .dataframe tbody tr th {\n",
       "        vertical-align: top;\n",
       "    }\n",
       "\n",
       "    .dataframe thead th {\n",
       "        text-align: right;\n",
       "    }\n",
       "</style>\n",
       "<table border=\"1\" class=\"dataframe\">\n",
       "  <thead>\n",
       "    <tr style=\"text-align: right;\">\n",
       "      <th></th>\n",
       "      <th>Most Frequent</th>\n",
       "      <th>Random</th>\n",
       "      <th>Rating Threshold</th>\n",
       "      <th>Naive Bayes</th>\n",
       "      <th>Naive Bayes (Bigram)</th>\n",
       "      <th>SVM</th>\n",
       "      <th>SVM (Bigram)</th>\n",
       "      <th>Logistic Regression</th>\n",
       "      <th>Logistic Regression (Bigram)</th>\n",
       "    </tr>\n",
       "    <tr>\n",
       "      <th>Metrics</th>\n",
       "      <th></th>\n",
       "      <th></th>\n",
       "      <th></th>\n",
       "      <th></th>\n",
       "      <th></th>\n",
       "      <th></th>\n",
       "      <th></th>\n",
       "      <th></th>\n",
       "      <th></th>\n",
       "    </tr>\n",
       "  </thead>\n",
       "  <tbody>\n",
       "    <tr>\n",
       "      <th>F1</th>\n",
       "      <td>0.708662</td>\n",
       "      <td>0.550056</td>\n",
       "      <td>0.645743</td>\n",
       "      <td>0.764013</td>\n",
       "      <td>0.710101</td>\n",
       "      <td>0.838749</td>\n",
       "      <td>0.792707</td>\n",
       "      <td>0.856554</td>\n",
       "      <td>0.824860</td>\n",
       "    </tr>\n",
       "    <tr>\n",
       "      <th>Accuracy</th>\n",
       "      <td>0.798228</td>\n",
       "      <td>0.501266</td>\n",
       "      <td>0.614679</td>\n",
       "      <td>0.820714</td>\n",
       "      <td>0.798830</td>\n",
       "      <td>0.860080</td>\n",
       "      <td>0.835483</td>\n",
       "      <td>0.868580</td>\n",
       "      <td>0.853207</td>\n",
       "    </tr>\n",
       "  </tbody>\n",
       "</table>\n",
       "</div>"
      ],
      "text/plain": [
       "          Most Frequent    Random  Rating Threshold  Naive Bayes  \\\n",
       "Metrics                                                            \n",
       "F1             0.708662  0.550056          0.645743     0.764013   \n",
       "Accuracy       0.798228  0.501266          0.614679     0.820714   \n",
       "\n",
       "          Naive Bayes (Bigram)       SVM  SVM (Bigram)  Logistic Regression  \\\n",
       "Metrics                                                                       \n",
       "F1                    0.710101  0.838749      0.792707             0.856554   \n",
       "Accuracy              0.798830  0.860080      0.835483             0.868580   \n",
       "\n",
       "          Logistic Regression (Bigram)  \n",
       "Metrics                                 \n",
       "F1                            0.824860  \n",
       "Accuracy                      0.853207  "
      ]
     },
     "execution_count": 101,
     "metadata": {},
     "output_type": "execute_result"
    }
   ],
   "source": [
    "metrics_logreg_bi = precision_recall_fscore_support(y_test, y_pred_logreg_bi, average=\"weighted\")\n",
    "df_score['Logistic Regression (Bigram)'] = [metrics_logreg_bi[2],accuracy_score(y_test, y_pred_logreg_bi)]\n",
    "df_score"
   ]
  },
  {
   "cell_type": "markdown",
   "id": "8db0f2bf",
   "metadata": {},
   "source": [
    "# LSTM"
   ]
  },
  {
   "cell_type": "markdown",
   "id": "283cafc6",
   "metadata": {},
   "source": [
    "References: \n",
    "- https://jovian.ai/aakanksha-ns/lstm-multiclass-text-classification\n",
    "- https://towardsdatascience.com/lstm-text-classification-using-pytorch-2c6c657f8fc0\n",
    "- https://androidkt.com/text-classification-in-pytorch/"
   ]
  },
  {
   "cell_type": "code",
   "execution_count": 1,
   "id": "ed3bd660",
   "metadata": {},
   "outputs": [],
   "source": [
    "# !pip install -U torch==1.8.0 torchtext==0.9.0\n",
    "# exit()"
   ]
  },
  {
   "cell_type": "code",
   "execution_count": 102,
   "id": "46059f2f",
   "metadata": {},
   "outputs": [
    {
     "data": {
      "text/plain": [
       "<torch._C.Generator at 0x2ba12d727d90>"
      ]
     },
     "execution_count": 102,
     "metadata": {},
     "output_type": "execute_result"
    }
   ],
   "source": [
    "import torchtext\n",
    "import torch\n",
    "from torchtext.legacy import data#, Field, TabularDataset, BucketIterator\n",
    "from torchtext.legacy import datasets\n",
    "import torch.nn as nn\n",
    "import torch.optim as optim\n",
    "from tqdm.notebook import tqdm_notebook\n",
    "from torch.utils.tensorboard import SummaryWriter\n",
    "torch.manual_seed(42)"
   ]
  },
  {
   "cell_type": "code",
   "execution_count": 103,
   "id": "ce502d56",
   "metadata": {},
   "outputs": [],
   "source": [
    "train_df = pd.DataFrame({'labels':y_train, 'text':X_train['review']})\n",
    "test_df = pd.DataFrame({'labels':y_test, 'text':X_test['review']})\n",
    "train_df.to_csv('train.csv', index = False)\n",
    "test_df.to_csv('test.csv', index = False)"
   ]
  },
  {
   "cell_type": "code",
   "execution_count": 104,
   "id": "c8a19c3d",
   "metadata": {},
   "outputs": [],
   "source": [
    "TEXT = data.Field(tokenize=tokenize, stop_words='english', batch_first=True,include_lengths=True)\n",
    "LABEL = data.LabelField(dtype = torch.float,batch_first=True)\n",
    "#"
   ]
  },
  {
   "cell_type": "code",
   "execution_count": 105,
   "id": "4dab7e79",
   "metadata": {},
   "outputs": [],
   "source": [
    "fields = [(\"labels\",LABEL),('text',TEXT)]"
   ]
  },
  {
   "cell_type": "code",
   "execution_count": 106,
   "id": "edfdd514",
   "metadata": {},
   "outputs": [
    {
     "name": "stderr",
     "output_type": "stream",
     "text": [
      "[nltk_data] Downloading package wordnet to /home/michengz/nltk_data...\n",
      "[nltk_data]   Package wordnet is already up-to-date!\n"
     ]
    },
    {
     "data": {
      "text/plain": [
       "True"
      ]
     },
     "execution_count": 106,
     "metadata": {},
     "output_type": "execute_result"
    }
   ],
   "source": [
    "nltk.download('wordnet')"
   ]
  },
  {
   "cell_type": "code",
   "execution_count": 107,
   "id": "b3736214",
   "metadata": {},
   "outputs": [],
   "source": [
    "train_data = data.TabularDataset(path = \"train.csv\",\n",
    "                                format = \"csv\",\n",
    "                                fields = fields,\n",
    "                                skip_header = True\n",
    "                                )\n",
    "test_data = data.TabularDataset(path = \"test.csv\",\n",
    "                                format = \"csv\",\n",
    "                                fields = fields,\n",
    "                                skip_header = True\n",
    "                                )"
   ]
  },
  {
   "cell_type": "code",
   "execution_count": 108,
   "id": "1c3831ef",
   "metadata": {},
   "outputs": [
    {
     "name": "stdout",
     "output_type": "stream",
     "text": [
      "{'labels': '1', 'text': ['it', 'make', 'your', 'skin', 'look', 'very', 'naturally', 'dewy', 'which', 'like', 'if', 'you', \"don't\", 'like', 'the', 'lasting', 'dewy', 'look', 'this', 'may', 'not', 'be', 'for', 'you', 'why', 'not', '5', 'star', 'would', 'rather', 'have', 'this', 'a', 'a', 'dropper', 'so', 'can', 'put', 'it', 'directly', 'on', 'my', 'face', 'right', 'now', 'it', 'squirt', 'out', 'fast', 'and', 'through', 'my', 'finger', 'onto', 'the', 'counter']}\n",
      "{'labels': '1', 'text': ['d', 'say', 'out', 'of', 'the', 'entire', 'collection', 'this', 'is', 'just', 'hyaluronic', 'serum', 'and', 'you', 'can', 'find', 'a', 'serum', 'just', 'a', 'good', 'if', 'not', 'better', 'that', 'wouldn', 't', 'cost', '300', 'it', 'doe', 'plump', 'my', 'skin', 'and', 'make', 'it', 'soft', 'but', 'don', 't', 'think', 'this', 'is', 'the', 'best']}\n"
     ]
    }
   ],
   "source": [
    "print(vars(train_data.examples[0]))\n",
    "print(vars(test_data.examples[0]))"
   ]
  },
  {
   "cell_type": "code",
   "execution_count": 109,
   "id": "f1c8047d",
   "metadata": {},
   "outputs": [],
   "source": [
    "TEXT.build_vocab(train_data, min_freq = 5)\n",
    "LABEL.build_vocab(train_data)"
   ]
  },
  {
   "cell_type": "code",
   "execution_count": 110,
   "id": "dbce74cd",
   "metadata": {},
   "outputs": [],
   "source": [
    "# Pretrained Embeddings\n",
    "# TEXT.vocab.load_vectors('glove.6B.300d')\n",
    "# embedding = TEXT.vocab.vectors.to(device)"
   ]
  },
  {
   "cell_type": "code",
   "execution_count": 111,
   "id": "ef9a131a",
   "metadata": {},
   "outputs": [
    {
     "name": "stdout",
     "output_type": "stream",
     "text": [
      "Size of text vocab: 8155\n",
      "Size of label vocab: 2\n",
      "Most common vocabs: [('it', 157544), ('and', 152403), ('a', 136001), ('the', 135244), ('my', 118448), ('this', 111788), ('skin', 87776), ('to', 80753), ('is', 70707), ('for', 55805), ('product', 54930), ('of', 44540), ('in', 38929), ('but', 38656), ('so', 36618), ('that', 36543), ('have', 35889), ('love', 33228), ('on', 32898), ('with', 31753)]\n"
     ]
    }
   ],
   "source": [
    "print(\"Size of text vocab:\",len(TEXT.vocab))\n",
    "print(\"Size of label vocab:\",len(LABEL.vocab))\n",
    "print(\"Most common vocabs:\", TEXT.vocab.freqs.most_common(20))"
   ]
  },
  {
   "cell_type": "code",
   "execution_count": 112,
   "id": "643431e1",
   "metadata": {},
   "outputs": [],
   "source": [
    "batch_size = 32"
   ]
  },
  {
   "cell_type": "code",
   "execution_count": 113,
   "id": "160daefb",
   "metadata": {},
   "outputs": [],
   "source": [
    "# Creating Batches through Iterator\n",
    "train_iterator, test_iterator = data.BucketIterator.splits(\n",
    "    (train_data, test_data), \n",
    "    batch_size = batch_size,\n",
    "    sort_key = lambda x: len(x.text),\n",
    "    sort_within_batch = True)"
   ]
  },
  {
   "cell_type": "code",
   "execution_count": 114,
   "id": "7c52a52a",
   "metadata": {},
   "outputs": [],
   "source": [
    "# Constructing an LSTM Network\n",
    "\n",
    "class LSTM(nn.Module):\n",
    "    \n",
    "    def __init__(self, vocab_size, embedding_dim, hidden_dim, num_layers, dropout, bidirectional):\n",
    "        super(LSTM, self).__init__()\n",
    "        \n",
    "        # Embedding Layer\n",
    "        self.embedding = nn.Embedding(vocab_size, embedding_dim)\n",
    "        #self.embeddings = nn.Embedding.from_pretrained(embedding_weights) # pretrained embeddings\n",
    "        \n",
    "        # LSTM Layer\n",
    "        self.lstm = nn.LSTM(embedding_dim, hidden_dim,\n",
    "                            num_layers = num_layers,\n",
    "                            bidirectional = bidirectional,\n",
    "                            batch_first = True,\n",
    "                            dropout = dropout)\n",
    "        \n",
    "        # Linear Layer \n",
    "        self.linear = nn.Linear(hidden_dim * 2, 1)  # (hidden_dim * 2, label size)\n",
    "\n",
    "    def forward(self, text, text_length):\n",
    "        \n",
    "        # getting the embeddings and pack sequence\n",
    "        text_embedded = self.embedding(text) \n",
    "        packed_embedded = nn.utils.rnn.pack_padded_sequence(text_embedded, text_length, batch_first = True)\n",
    "        \n",
    "        # passing embeddings through LSTM\n",
    "        packed_outputs, (hidden, cell) = self.lstm(packed_embedded)\n",
    "        # concatenating the last hidden states of the two LSTMs (forward & backward)\n",
    "        hidden = torch.cat((hidden[-2,:,:], hidden[-1,:,:]), dim = 1) # hidden state shape: [2 layers * 2 directions, batch, hidden_size]\n",
    "        \n",
    "        # passing through linear layer\n",
    "        dense_outputs = self.linear(hidden)\n",
    "        \n",
    "        # sigmoid to get final output\n",
    "        outputs = torch.sigmoid(dense_outputs)\n",
    "        \n",
    "        return outputs"
   ]
  },
  {
   "cell_type": "code",
   "execution_count": 115,
   "id": "ad669a02",
   "metadata": {},
   "outputs": [],
   "source": [
    "# Model Parameters\n",
    "vocab_size = len(TEXT.vocab)\n",
    "embedding_dim = 100\n",
    "hidden_dim = 25\n",
    "num_layers = 2\n",
    "dropout = 0.2"
   ]
  },
  {
   "cell_type": "code",
   "execution_count": 118,
   "id": "f38313b3",
   "metadata": {},
   "outputs": [],
   "source": [
    "# Instantiating LSTM Model\n",
    "model = LSTM(vocab_size = vocab_size, \n",
    "             embedding_dim = embedding_dim, \n",
    "             hidden_dim = hidden_dim,\n",
    "             num_layers = num_layers, \n",
    "             dropout = dropout,\n",
    "             bidirectional = True)"
   ]
  },
  {
   "cell_type": "code",
   "execution_count": 116,
   "id": "409271e8",
   "metadata": {},
   "outputs": [],
   "source": [
    "def evaluate(model, test_iterator):\n",
    "    y_pred = []\n",
    "    y_true = []\n",
    "\n",
    "    model.eval()\n",
    "    with torch.no_grad():\n",
    "        for i, batch in tqdm_notebook(enumerate(test_iterator)):\n",
    "            (feature, batch_length), label = batch.text, batch.labels # inputs\n",
    "            output = model(feature, batch_length).squeeze()\n",
    "            \n",
    "            output = (output > 0.5).int()\n",
    "            y_pred.extend(output.tolist())\n",
    "            y_true.extend(label.tolist())\n",
    "            \n",
    "    precision, recall, f1, acc = precision_recall_fscore_support(y_true,y_pred, average=\"weighted\")\n",
    "    accuracy = accuracy_score(y_true,y_pred)\n",
    "    return [precision, recall, f1, accuracy]"
   ]
  },
  {
   "cell_type": "code",
   "execution_count": 1496,
   "id": "5c6d3382",
   "metadata": {},
   "outputs": [],
   "source": [
    "# Training \n",
    "loss_history = []\n",
    "f1_history = []\n",
    "scores_history = []\n",
    "final_scores = []\n",
    "training_acc = []\n",
    "optimizer = optim.Adam(model.parameters(),lr = 1e-4)\n",
    "criterion = nn.BCELoss()\n",
    "writer = SummaryWriter()\n",
    "\n",
    "def train(model,optimizer,epochs):\n",
    "    running_loss = 0.0   \n",
    "    step = 0\n",
    "    \n",
    "    for epoch in range(epochs):\n",
    "        train_preds = []\n",
    "        train_trues = []\n",
    "        \n",
    "        for i, batch in tqdm_notebook(enumerate(train_iterator)):\n",
    "            (feature, batch_length), label = batch.text, batch.labels\n",
    "\n",
    "            optimizer.zero_grad()\n",
    "\n",
    "            output = model(feature, batch_length).squeeze() \n",
    "\n",
    "            loss = criterion(output, label)\n",
    "            loss.backward()\n",
    "            optimizer.step()\n",
    "            \n",
    "            step += 1\n",
    "            \n",
    "            # Training Predictions\n",
    "            train_output = (output > 0.5).int()\n",
    "            train_preds.extend(train_output.tolist())\n",
    "            train_trues.extend(label.tolist())\n",
    "            \n",
    "            # Evaluation\n",
    "            running_loss += loss.item()\n",
    "            if i % 1000 == 999:\n",
    "                \n",
    "                # Calculating Training Accuracy\n",
    "                t_acc = accuracy_score(train_trues,train_preds)\n",
    "                training_acc.append(t_acc)\n",
    "                \n",
    "                # Calculate Scores\n",
    "                scores = evaluate(model, test_iterator)\n",
    "                f1_history.append(scores[2])\n",
    "                scores_history.append(scores)\n",
    "                print(f'f1 score: {scores[2]}')\n",
    "                \n",
    "                # Calculating Running Loss\n",
    "                loss_history.append(running_loss)\n",
    "                print(f'[{epoch + 1}, {step}] Training Loss: {running_loss:.5f}')\n",
    "                print(f'[{epoch + 1}, {step}] Training Accuracy: {t_acc:.5f}')\n",
    "                print(f'[{epoch + 1}, {step}] Validation Accuracy: {scores[3]:.5f}')\n",
    "                writer.add_scalar(\"Running Loss / 1000 Steps\", running_loss, step)\n",
    "                running_loss = 0.0 \n",
    "                \n",
    "                model.train()\n",
    "                \n",
    "    final_scores.extend(scores)"
   ]
  },
  {
   "cell_type": "code",
   "execution_count": 1497,
   "id": "2c8b4df5",
   "metadata": {},
   "outputs": [
    {
     "data": {
      "application/vnd.jupyter.widget-view+json": {
       "model_id": "a0c423df8cf04adc83115ebcee09e1c2",
       "version_major": 2,
       "version_minor": 0
      },
      "text/plain": [
       "0it [00:00, ?it/s]"
      ]
     },
     "metadata": {},
     "output_type": "display_data"
    },
    {
     "data": {
      "application/vnd.jupyter.widget-view+json": {
       "model_id": "77ea9949ca5a424cac5da2756c93e3e4",
       "version_major": 2,
       "version_minor": 0
      },
      "text/plain": [
       "0it [00:00, ?it/s]"
      ]
     },
     "metadata": {},
     "output_type": "display_data"
    },
    {
     "name": "stderr",
     "output_type": "stream",
     "text": [
      "/Users/michellecheng/opt/anaconda3/lib/python3.8/site-packages/sklearn/metrics/_classification.py:1221: UndefinedMetricWarning: Precision and F-score are ill-defined and being set to 0.0 in labels with no predicted samples. Use `zero_division` parameter to control this behavior.\n",
      "  -------\n"
     ]
    },
    {
     "name": "stdout",
     "output_type": "stream",
     "text": [
      "f1 score: 0.7086615111165393\n",
      "[1, 1000] Training Loss: 506.85518\n",
      "[1, 1000] Training Accuracy: 0.79438\n",
      "[1, 1000] Validation Accuracy: 0.79823\n"
     ]
    },
    {
     "data": {
      "application/vnd.jupyter.widget-view+json": {
       "model_id": "4f671032379f4fa5a27369e306365dfb",
       "version_major": 2,
       "version_minor": 0
      },
      "text/plain": [
       "0it [00:00, ?it/s]"
      ]
     },
     "metadata": {},
     "output_type": "display_data"
    },
    {
     "name": "stdout",
     "output_type": "stream",
     "text": [
      "f1 score: 0.7414887097520392\n",
      "[1, 2000] Training Loss: 416.11004\n",
      "[1, 2000] Training Accuracy: 0.79683\n",
      "[1, 2000] Validation Accuracy: 0.80811\n"
     ]
    },
    {
     "data": {
      "application/vnd.jupyter.widget-view+json": {
       "model_id": "a385190b50a24dd6a66aa97911bed695",
       "version_major": 2,
       "version_minor": 0
      },
      "text/plain": [
       "0it [00:00, ?it/s]"
      ]
     },
     "metadata": {},
     "output_type": "display_data"
    },
    {
     "data": {
      "application/vnd.jupyter.widget-view+json": {
       "model_id": "a9d577543f8740b5af90de3c48865cb5",
       "version_major": 2,
       "version_minor": 0
      },
      "text/plain": [
       "0it [00:00, ?it/s]"
      ]
     },
     "metadata": {},
     "output_type": "display_data"
    },
    {
     "name": "stdout",
     "output_type": "stream",
     "text": [
      "f1 score: 0.7887613853002976\n",
      "[2, 3074] Training Loss: 401.97719\n",
      "[2, 3074] Training Accuracy: 0.81806\n",
      "[2, 3074] Validation Accuracy: 0.82355\n"
     ]
    },
    {
     "data": {
      "application/vnd.jupyter.widget-view+json": {
       "model_id": "7f1a3fdbe0474ea0a3ce8665d1855a86",
       "version_major": 2,
       "version_minor": 0
      },
      "text/plain": [
       "0it [00:00, ?it/s]"
      ]
     },
     "metadata": {},
     "output_type": "display_data"
    },
    {
     "name": "stdout",
     "output_type": "stream",
     "text": [
      "f1 score: 0.8083796927566069\n",
      "[2, 4074] Training Loss: 369.43271\n",
      "[2, 4074] Training Accuracy: 0.82048\n",
      "[2, 4074] Validation Accuracy: 0.83187\n"
     ]
    },
    {
     "data": {
      "application/vnd.jupyter.widget-view+json": {
       "model_id": "b9f6d2c0fcb94fd686faf50a2b2e0fbb",
       "version_major": 2,
       "version_minor": 0
      },
      "text/plain": [
       "0it [00:00, ?it/s]"
      ]
     },
     "metadata": {},
     "output_type": "display_data"
    },
    {
     "data": {
      "application/vnd.jupyter.widget-view+json": {
       "model_id": "09ce589b880246eda56b5bb3ff63ca27",
       "version_major": 2,
       "version_minor": 0
      },
      "text/plain": [
       "0it [00:00, ?it/s]"
      ]
     },
     "metadata": {},
     "output_type": "display_data"
    },
    {
     "name": "stdout",
     "output_type": "stream",
     "text": [
      "f1 score: 0.8295119861120123\n",
      "[3, 5148] Training Loss: 373.42421\n",
      "[3, 5148] Training Accuracy: 0.83750\n",
      "[3, 5148] Validation Accuracy: 0.83609\n"
     ]
    },
    {
     "data": {
      "application/vnd.jupyter.widget-view+json": {
       "model_id": "8236228a9b1c476a989cd6894d2df31f",
       "version_major": 2,
       "version_minor": 0
      },
      "text/plain": [
       "0it [00:00, ?it/s]"
      ]
     },
     "metadata": {},
     "output_type": "display_data"
    },
    {
     "name": "stdout",
     "output_type": "stream",
     "text": [
      "f1 score: 0.8339854059362214\n",
      "[3, 6148] Training Loss: 339.10065\n",
      "[3, 6148] Training Accuracy: 0.84069\n",
      "[3, 6148] Validation Accuracy: 0.84254\n"
     ]
    },
    {
     "data": {
      "application/vnd.jupyter.widget-view+json": {
       "model_id": "f4aabafa148e4902a6faaa6c6ab3e142",
       "version_major": 2,
       "version_minor": 0
      },
      "text/plain": [
       "0it [00:00, ?it/s]"
      ]
     },
     "metadata": {},
     "output_type": "display_data"
    },
    {
     "data": {
      "application/vnd.jupyter.widget-view+json": {
       "model_id": "04e782808e6f44ba8da259a3e7f381c0",
       "version_major": 2,
       "version_minor": 0
      },
      "text/plain": [
       "0it [00:00, ?it/s]"
      ]
     },
     "metadata": {},
     "output_type": "display_data"
    },
    {
     "name": "stdout",
     "output_type": "stream",
     "text": [
      "f1 score: 0.8383582603312283\n",
      "[4, 7222] Training Loss: 346.91871\n",
      "[4, 7222] Training Accuracy: 0.85022\n",
      "[4, 7222] Validation Accuracy: 0.84453\n"
     ]
    },
    {
     "data": {
      "application/vnd.jupyter.widget-view+json": {
       "model_id": "d6376ae592a24657986bbd4a87f31fc9",
       "version_major": 2,
       "version_minor": 0
      },
      "text/plain": [
       "0it [00:00, ?it/s]"
      ]
     },
     "metadata": {},
     "output_type": "display_data"
    },
    {
     "name": "stdout",
     "output_type": "stream",
     "text": [
      "f1 score: 0.8416282806409829\n",
      "[4, 8222] Training Loss: 323.26429\n",
      "[4, 8222] Training Accuracy: 0.85036\n",
      "[4, 8222] Validation Accuracy: 0.84814\n"
     ]
    },
    {
     "data": {
      "application/vnd.jupyter.widget-view+json": {
       "model_id": "47ae6054a02d4f818861a752b4d30ec6",
       "version_major": 2,
       "version_minor": 0
      },
      "text/plain": [
       "0it [00:00, ?it/s]"
      ]
     },
     "metadata": {},
     "output_type": "display_data"
    },
    {
     "data": {
      "application/vnd.jupyter.widget-view+json": {
       "model_id": "7dd25541aa98433793a1766fab8bd85b",
       "version_major": 2,
       "version_minor": 0
      },
      "text/plain": [
       "0it [00:00, ?it/s]"
      ]
     },
     "metadata": {},
     "output_type": "display_data"
    },
    {
     "name": "stdout",
     "output_type": "stream",
     "text": [
      "f1 score: 0.8469677518654567\n",
      "[5, 9296] Training Loss: 334.22560\n",
      "[5, 9296] Training Accuracy: 0.85606\n",
      "[5, 9296] Validation Accuracy: 0.85272\n"
     ]
    },
    {
     "data": {
      "application/vnd.jupyter.widget-view+json": {
       "model_id": "1c1cb52ec51640c292526cd0bb037ee0",
       "version_major": 2,
       "version_minor": 0
      },
      "text/plain": [
       "0it [00:00, ?it/s]"
      ]
     },
     "metadata": {},
     "output_type": "display_data"
    },
    {
     "name": "stdout",
     "output_type": "stream",
     "text": [
      "f1 score: 0.8490169154051889\n",
      "[5, 10296] Training Loss: 306.45401\n",
      "[5, 10296] Training Accuracy: 0.85788\n",
      "[5, 10296] Validation Accuracy: 0.85068\n"
     ]
    },
    {
     "data": {
      "application/vnd.jupyter.widget-view+json": {
       "model_id": "f12c9d9e9422460ebe7e7677299cddb7",
       "version_major": 2,
       "version_minor": 0
      },
      "text/plain": [
       "0it [00:00, ?it/s]"
      ]
     },
     "metadata": {},
     "output_type": "display_data"
    },
    {
     "data": {
      "application/vnd.jupyter.widget-view+json": {
       "model_id": "9ae6b916d3fa4421b300380d4704c58b",
       "version_major": 2,
       "version_minor": 0
      },
      "text/plain": [
       "0it [00:00, ?it/s]"
      ]
     },
     "metadata": {},
     "output_type": "display_data"
    },
    {
     "name": "stdout",
     "output_type": "stream",
     "text": [
      "f1 score: 0.851442397152674\n",
      "[6, 11370] Training Loss: 320.42733\n",
      "[6, 11370] Training Accuracy: 0.86241\n",
      "[6, 11370] Validation Accuracy: 0.84911\n"
     ]
    },
    {
     "data": {
      "application/vnd.jupyter.widget-view+json": {
       "model_id": "5cda246b9fbf4fe99f7da6249deb9823",
       "version_major": 2,
       "version_minor": 0
      },
      "text/plain": [
       "0it [00:00, ?it/s]"
      ]
     },
     "metadata": {},
     "output_type": "display_data"
    },
    {
     "name": "stdout",
     "output_type": "stream",
     "text": [
      "f1 score: 0.853820831091467\n",
      "[6, 12370] Training Loss: 293.98599\n",
      "[6, 12370] Training Accuracy: 0.86413\n",
      "[6, 12370] Validation Accuracy: 0.85423\n"
     ]
    },
    {
     "data": {
      "application/vnd.jupyter.widget-view+json": {
       "model_id": "33c885307b314025b8ecae736879e986",
       "version_major": 2,
       "version_minor": 0
      },
      "text/plain": [
       "0it [00:00, ?it/s]"
      ]
     },
     "metadata": {},
     "output_type": "display_data"
    },
    {
     "data": {
      "application/vnd.jupyter.widget-view+json": {
       "model_id": "1114a337afbe4f2bb6d9b3db4d66adde",
       "version_major": 2,
       "version_minor": 0
      },
      "text/plain": [
       "0it [00:00, ?it/s]"
      ]
     },
     "metadata": {},
     "output_type": "display_data"
    },
    {
     "name": "stdout",
     "output_type": "stream",
     "text": [
      "f1 score: 0.8547287119665692\n",
      "[7, 13444] Training Loss: 312.84576\n",
      "[7, 13444] Training Accuracy: 0.86959\n",
      "[7, 13444] Validation Accuracy: 0.85652\n"
     ]
    },
    {
     "data": {
      "application/vnd.jupyter.widget-view+json": {
       "model_id": "29cd9173d4794715bfbb7803c9a75745",
       "version_major": 2,
       "version_minor": 0
      },
      "text/plain": [
       "0it [00:00, ?it/s]"
      ]
     },
     "metadata": {},
     "output_type": "display_data"
    },
    {
     "name": "stdout",
     "output_type": "stream",
     "text": [
      "f1 score: 0.8523248670151554\n",
      "[7, 14444] Training Loss: 284.21720\n",
      "[7, 14444] Training Accuracy: 0.87070\n",
      "[7, 14444] Validation Accuracy: 0.85713\n"
     ]
    },
    {
     "data": {
      "application/vnd.jupyter.widget-view+json": {
       "model_id": "d28b1900628c47a1863ec426783b4185",
       "version_major": 2,
       "version_minor": 0
      },
      "text/plain": [
       "0it [00:00, ?it/s]"
      ]
     },
     "metadata": {},
     "output_type": "display_data"
    },
    {
     "data": {
      "application/vnd.jupyter.widget-view+json": {
       "model_id": "ec48d8de629c43398cd155dda2e033b7",
       "version_major": 2,
       "version_minor": 0
      },
      "text/plain": [
       "0it [00:00, ?it/s]"
      ]
     },
     "metadata": {},
     "output_type": "display_data"
    },
    {
     "name": "stdout",
     "output_type": "stream",
     "text": [
      "f1 score: 0.8562119016675698\n",
      "[8, 15518] Training Loss: 297.91510\n",
      "[8, 15518] Training Accuracy: 0.87441\n",
      "[8, 15518] Validation Accuracy: 0.85598\n"
     ]
    },
    {
     "data": {
      "application/vnd.jupyter.widget-view+json": {
       "model_id": "e27b11c583c2418c94c3a8797c1b5fc9",
       "version_major": 2,
       "version_minor": 0
      },
      "text/plain": [
       "0it [00:00, ?it/s]"
      ]
     },
     "metadata": {},
     "output_type": "display_data"
    },
    {
     "name": "stdout",
     "output_type": "stream",
     "text": [
      "f1 score: 0.8565512927492506\n",
      "[8, 16518] Training Loss: 276.05017\n",
      "[8, 16518] Training Accuracy: 0.87562\n",
      "[8, 16518] Validation Accuracy: 0.86068\n"
     ]
    },
    {
     "data": {
      "application/vnd.jupyter.widget-view+json": {
       "model_id": "5d3967e8bf824012801c643fa7dad94f",
       "version_major": 2,
       "version_minor": 0
      },
      "text/plain": [
       "0it [00:00, ?it/s]"
      ]
     },
     "metadata": {},
     "output_type": "display_data"
    },
    {
     "data": {
      "application/vnd.jupyter.widget-view+json": {
       "model_id": "5dc65dd9d9594cb1b4e79661b14a593a",
       "version_major": 2,
       "version_minor": 0
      },
      "text/plain": [
       "0it [00:00, ?it/s]"
      ]
     },
     "metadata": {},
     "output_type": "display_data"
    },
    {
     "name": "stdout",
     "output_type": "stream",
     "text": [
      "f1 score: 0.8519757926224194\n",
      "[9, 17592] Training Loss: 291.64079\n",
      "[9, 17592] Training Accuracy: 0.87947\n",
      "[9, 17592] Validation Accuracy: 0.86044\n"
     ]
    },
    {
     "data": {
      "application/vnd.jupyter.widget-view+json": {
       "model_id": "0c16822facae4e5ea55b9035a12581a8",
       "version_major": 2,
       "version_minor": 0
      },
      "text/plain": [
       "0it [00:00, ?it/s]"
      ]
     },
     "metadata": {},
     "output_type": "display_data"
    },
    {
     "name": "stdout",
     "output_type": "stream",
     "text": [
      "f1 score: 0.8603682897154511\n",
      "[9, 18592] Training Loss: 268.38083\n",
      "[9, 18592] Training Accuracy: 0.87892\n",
      "[9, 18592] Validation Accuracy: 0.86430\n"
     ]
    },
    {
     "data": {
      "application/vnd.jupyter.widget-view+json": {
       "model_id": "182f41454f1d4aa5aad5decc3a28008a",
       "version_major": 2,
       "version_minor": 0
      },
      "text/plain": [
       "0it [00:00, ?it/s]"
      ]
     },
     "metadata": {},
     "output_type": "display_data"
    },
    {
     "data": {
      "application/vnd.jupyter.widget-view+json": {
       "model_id": "7c77d69886a14921a6705769bff58770",
       "version_major": 2,
       "version_minor": 0
      },
      "text/plain": [
       "0it [00:00, ?it/s]"
      ]
     },
     "metadata": {},
     "output_type": "display_data"
    },
    {
     "name": "stdout",
     "output_type": "stream",
     "text": [
      "f1 score: 0.8584408101868953\n",
      "[10, 19666] Training Loss: 274.96989\n",
      "[10, 19666] Training Accuracy: 0.88647\n",
      "[10, 19666] Validation Accuracy: 0.86394\n"
     ]
    },
    {
     "data": {
      "application/vnd.jupyter.widget-view+json": {
       "model_id": "2c57b6e9eca14f11af7390881795a968",
       "version_major": 2,
       "version_minor": 0
      },
      "text/plain": [
       "0it [00:00, ?it/s]"
      ]
     },
     "metadata": {},
     "output_type": "display_data"
    },
    {
     "name": "stdout",
     "output_type": "stream",
     "text": [
      "f1 score: 0.8627099414301032\n",
      "[10, 20666] Training Loss: 267.11463\n",
      "[10, 20666] Training Accuracy: 0.88361\n",
      "[10, 20666] Validation Accuracy: 0.86122\n"
     ]
    },
    {
     "data": {
      "application/vnd.jupyter.widget-view+json": {
       "model_id": "4d9d0fec384a4b6c8f221116c10cf40e",
       "version_major": 2,
       "version_minor": 0
      },
      "text/plain": [
       "0it [00:00, ?it/s]"
      ]
     },
     "metadata": {},
     "output_type": "display_data"
    },
    {
     "data": {
      "application/vnd.jupyter.widget-view+json": {
       "model_id": "78f9bcca66694633948ae30a24b3c5fc",
       "version_major": 2,
       "version_minor": 0
      },
      "text/plain": [
       "0it [00:00, ?it/s]"
      ]
     },
     "metadata": {},
     "output_type": "display_data"
    },
    {
     "name": "stdout",
     "output_type": "stream",
     "text": [
      "f1 score: 0.8605566355544388\n",
      "[11, 21740] Training Loss: 273.67369\n",
      "[11, 21740] Training Accuracy: 0.88794\n",
      "[11, 21740] Validation Accuracy: 0.86418\n"
     ]
    },
    {
     "data": {
      "application/vnd.jupyter.widget-view+json": {
       "model_id": "5653b0bf95b64bcfb69462dcdd021aac",
       "version_major": 2,
       "version_minor": 0
      },
      "text/plain": [
       "0it [00:00, ?it/s]"
      ]
     },
     "metadata": {},
     "output_type": "display_data"
    },
    {
     "name": "stdout",
     "output_type": "stream",
     "text": [
      "f1 score: 0.860488842755941\n",
      "[11, 22740] Training Loss: 253.24959\n",
      "[11, 22740] Training Accuracy: 0.88745\n",
      "[11, 22740] Validation Accuracy: 0.86514\n"
     ]
    },
    {
     "data": {
      "application/vnd.jupyter.widget-view+json": {
       "model_id": "adf3c1d0b4e442f3a406856b26fc2866",
       "version_major": 2,
       "version_minor": 0
      },
      "text/plain": [
       "0it [00:00, ?it/s]"
      ]
     },
     "metadata": {},
     "output_type": "display_data"
    },
    {
     "data": {
      "application/vnd.jupyter.widget-view+json": {
       "model_id": "e7fbabcf552d49b5af2afa25bd69c926",
       "version_major": 2,
       "version_minor": 0
      },
      "text/plain": [
       "0it [00:00, ?it/s]"
      ]
     },
     "metadata": {},
     "output_type": "display_data"
    },
    {
     "name": "stdout",
     "output_type": "stream",
     "text": [
      "f1 score: 0.8602003034468607\n",
      "[12, 23814] Training Loss: 265.17523\n",
      "[12, 23814] Training Accuracy: 0.89228\n",
      "[12, 23814] Validation Accuracy: 0.86538\n"
     ]
    },
    {
     "data": {
      "application/vnd.jupyter.widget-view+json": {
       "model_id": "0d5fcec9549a4f5791945ec64403c1fd",
       "version_major": 2,
       "version_minor": 0
      },
      "text/plain": [
       "0it [00:00, ?it/s]"
      ]
     },
     "metadata": {},
     "output_type": "display_data"
    },
    {
     "name": "stdout",
     "output_type": "stream",
     "text": [
      "f1 score: 0.8636763978408148\n",
      "[12, 24814] Training Loss: 249.00930\n",
      "[12, 24814] Training Accuracy: 0.89253\n",
      "[12, 24814] Validation Accuracy: 0.86400\n"
     ]
    }
   ],
   "source": [
    "train(model = model, optimizer = optimizer, epochs = 12)\n",
    "writer.flush()"
   ]
  },
  {
   "cell_type": "code",
   "execution_count": 1499,
   "id": "3221a3c5",
   "metadata": {},
   "outputs": [
    {
     "data": {
      "text/plain": [
       "[0.8633690190934936,\n",
       " 0.8639980708946227,\n",
       " 0.8636763978408148,\n",
       " 0.8639980708946227]"
      ]
     },
     "execution_count": 1499,
     "metadata": {},
     "output_type": "execute_result"
    }
   ],
   "source": [
    "final_scores"
   ]
  },
  {
   "cell_type": "code",
   "execution_count": 1500,
   "id": "9eb4502a",
   "metadata": {},
   "outputs": [
    {
     "data": {
      "text/plain": [
       "[0.7086615111165393,\n",
       " 0.7414887097520392,\n",
       " 0.7887613853002976,\n",
       " 0.8083796927566069,\n",
       " 0.8295119861120123,\n",
       " 0.8339854059362214,\n",
       " 0.8383582603312283,\n",
       " 0.8416282806409829,\n",
       " 0.8469677518654567,\n",
       " 0.8490169154051889,\n",
       " 0.851442397152674,\n",
       " 0.853820831091467,\n",
       " 0.8547287119665692,\n",
       " 0.8523248670151554,\n",
       " 0.8562119016675698,\n",
       " 0.8565512927492506,\n",
       " 0.8519757926224194,\n",
       " 0.8603682897154511,\n",
       " 0.8584408101868953,\n",
       " 0.8627099414301032,\n",
       " 0.8605566355544388,\n",
       " 0.860488842755941,\n",
       " 0.8602003034468607,\n",
       " 0.8636763978408148]"
      ]
     },
     "execution_count": 1500,
     "metadata": {},
     "output_type": "execute_result"
    }
   ],
   "source": [
    "f1_history"
   ]
  },
  {
   "cell_type": "markdown",
   "id": "a8a74633",
   "metadata": {},
   "source": [
    "### Saving and Loading LSTM Model"
   ]
  },
  {
   "cell_type": "code",
   "execution_count": 1498,
   "id": "2a58e691",
   "metadata": {},
   "outputs": [],
   "source": [
    "# torch.save(model.state_dict(), 'LSTM_model_4')"
   ]
  },
  {
   "cell_type": "code",
   "execution_count": 119,
   "id": "15062037",
   "metadata": {},
   "outputs": [
    {
     "data": {
      "text/plain": [
       "LSTM(\n",
       "  (embedding): Embedding(8155, 100)\n",
       "  (lstm): LSTM(100, 25, num_layers=2, batch_first=True, dropout=0.2, bidirectional=True)\n",
       "  (linear): Linear(in_features=50, out_features=1, bias=True)\n",
       ")"
      ]
     },
     "execution_count": 119,
     "metadata": {},
     "output_type": "execute_result"
    }
   ],
   "source": [
    "model.load_state_dict(torch.load('LSTM_model_4'))\n",
    "model.eval()"
   ]
  },
  {
   "cell_type": "code",
   "execution_count": 1341,
   "id": "1964f340",
   "metadata": {},
   "outputs": [],
   "source": [
    "scores_dict = {}\n",
    "scores_dict['Precision'] = []\n",
    "scores_dict['Recall'] = []\n",
    "scores_dict['F1'] = []\n",
    "scores_dict['Accuracy'] = []\n",
    "for checkpoint in scores_history: \n",
    "    scores_dict['Precision'].append(checkpoint[0])\n",
    "    scores_dict['Recall'].append(checkpoint[1])\n",
    "    scores_dict['F1'].append(checkpoint[2])\n",
    "    scores_dict['Accuracy'].append(checkpoint[3])\n",
    "df_LSTM_scores = pd.DataFrame(scores_dict)"
   ]
  },
  {
   "cell_type": "code",
   "execution_count": 1502,
   "id": "21b03b7f",
   "metadata": {},
   "outputs": [
    {
     "data": {
      "text/plain": [
       "[0.794375,\n",
       " 0.796828125,\n",
       " 0.8180625,\n",
       " 0.820484375,\n",
       " 0.8375,\n",
       " 0.8406875,\n",
       " 0.85021875,\n",
       " 0.850359375,\n",
       " 0.8560625,\n",
       " 0.857875,\n",
       " 0.86240625,\n",
       " 0.864125,\n",
       " 0.86959375,\n",
       " 0.870703125,\n",
       " 0.87440625,\n",
       " 0.875625,\n",
       " 0.87946875,\n",
       " 0.878921875,\n",
       " 0.88646875,\n",
       " 0.883609375,\n",
       " 0.8879375,\n",
       " 0.887453125,\n",
       " 0.89228125,\n",
       " 0.89253125]"
      ]
     },
     "execution_count": 1502,
     "metadata": {},
     "output_type": "execute_result"
    }
   ],
   "source": [
    "training_acc"
   ]
  },
  {
   "cell_type": "code",
   "execution_count": 1510,
   "id": "9607f606",
   "metadata": {},
   "outputs": [
    {
     "data": {
      "image/png": "[encoded data removed]",
      "text/plain": [
       "<Figure size 576x396 with 1 Axes>"
      ]
     },
     "metadata": {},
     "output_type": "display_data"
    }
   ],
   "source": [
    "plt.xlabel(\"Checkpoints (1000 steps)\")\n",
    "plt.ylabel(\"Scores\")\n",
    "#plt.axis([-0.8, max(df_LSTM_scores.index)+0.8, 0, 1])\n",
    "plt.title('LSTM Training & Validation Accuracy')\n",
    "#plt.plot(df_LSTM_scores.index, df_LSTM_scores['Precision'],label=\"Precision\", marker='o')\n",
    "#plt.plot(df_LSTM_scores.index, df_LSTM_scores['Recall'], label=\"Recall\", marker='o')\n",
    "plt.plot(df_LSTM_scores.index, df_LSTM_scores['F1'], label=\"Validation F1\", marker='o',linewidth=2.5)\n",
    "plt.plot(df_LSTM_scores.index, training_acc, label=\"Training Accuracy\", marker='o',linewidth=2.5)\n",
    "plt.plot(df_LSTM_scores.index, df_LSTM_scores['Accuracy'], label=\" Validation Accuracy\", marker='o',linewidth=2.5)\n",
    "\n",
    "\n",
    "plt.legend(loc='best', prop={'size': 12})\n",
    "plt.show()"
   ]
  },
  {
   "cell_type": "code",
   "execution_count": 121,
   "id": "bf3ef9ad",
   "metadata": {},
   "outputs": [],
   "source": [
    "def predict(model, test_iter):\n",
    "    y_pred = []\n",
    "    y_true = []\n",
    "    y_proba = []\n",
    "    model.eval()\n",
    "    with torch.no_grad():\n",
    "        for i, batch in tqdm_notebook(enumerate(test_iter)):\n",
    "            (feature, batch_length), label = batch.text, batch.labels # inputs\n",
    "            output = model(feature, batch_length).squeeze()\n",
    "            y_proba.extend(output.tolist())\n",
    "            output = (output > 0.5).int()\n",
    "            y_pred.extend(output.tolist())\n",
    "            y_true.extend(label.tolist())\n",
    "            \n",
    "    return y_pred, y_true, y_proba"
   ]
  },
  {
   "cell_type": "code",
   "execution_count": 122,
   "id": "71fadbc6",
   "metadata": {},
   "outputs": [
    {
     "data": {
      "application/vnd.jupyter.widget-view+json": {
       "model_id": "eb45e8a342ab4f5f8a1d78e360796aaf",
       "version_major": 2,
       "version_minor": 0
      },
      "text/plain": [
       "0it [00:00, ?it/s]"
      ]
     },
     "metadata": {},
     "output_type": "display_data"
    }
   ],
   "source": [
    "y_pred,y_true, y_proba = predict(model, test_iterator)"
   ]
  },
  {
   "cell_type": "code",
   "execution_count": 125,
   "id": "5963db1b",
   "metadata": {},
   "outputs": [],
   "source": [
    "df_prediction_svm = pd.DataFrame({'y_pred':y_pred,'y_true':y_true})\n",
    "df_prediction_svm['prediction'] = df_prediction_svm['y_pred'].apply(lambda x: 1 if x==0 else 0)\n",
    "df_prediction_svm['true'] = df_prediction_svm['y_true'].apply(lambda x: 1 if x==0 else 0)"
   ]
  },
  {
   "cell_type": "code",
   "execution_count": 126,
   "id": "b47e44f8",
   "metadata": {},
   "outputs": [
    {
     "data": {
      "text/html": [
       "<div>\n",
       "<style scoped>\n",
       "    .dataframe tbody tr th:only-of-type {\n",
       "        vertical-align: middle;\n",
       "    }\n",
       "\n",
       "    .dataframe tbody tr th {\n",
       "        vertical-align: top;\n",
       "    }\n",
       "\n",
       "    .dataframe thead th {\n",
       "        text-align: right;\n",
       "    }\n",
       "</style>\n",
       "<table border=\"1\" class=\"dataframe\">\n",
       "  <thead>\n",
       "    <tr style=\"text-align: right;\">\n",
       "      <th></th>\n",
       "      <th>prediction</th>\n",
       "      <th>true</th>\n",
       "    </tr>\n",
       "  </thead>\n",
       "  <tbody>\n",
       "    <tr>\n",
       "      <th>0</th>\n",
       "      <td>1</td>\n",
       "      <td>1</td>\n",
       "    </tr>\n",
       "    <tr>\n",
       "      <th>1</th>\n",
       "      <td>1</td>\n",
       "      <td>0</td>\n",
       "    </tr>\n",
       "    <tr>\n",
       "      <th>2</th>\n",
       "      <td>1</td>\n",
       "      <td>1</td>\n",
       "    </tr>\n",
       "    <tr>\n",
       "      <th>3</th>\n",
       "      <td>0</td>\n",
       "      <td>1</td>\n",
       "    </tr>\n",
       "    <tr>\n",
       "      <th>4</th>\n",
       "      <td>0</td>\n",
       "      <td>1</td>\n",
       "    </tr>\n",
       "    <tr>\n",
       "      <th>...</th>\n",
       "      <td>...</td>\n",
       "      <td>...</td>\n",
       "    </tr>\n",
       "    <tr>\n",
       "      <th>16583</th>\n",
       "      <td>1</td>\n",
       "      <td>1</td>\n",
       "    </tr>\n",
       "    <tr>\n",
       "      <th>16584</th>\n",
       "      <td>0</td>\n",
       "      <td>0</td>\n",
       "    </tr>\n",
       "    <tr>\n",
       "      <th>16585</th>\n",
       "      <td>0</td>\n",
       "      <td>0</td>\n",
       "    </tr>\n",
       "    <tr>\n",
       "      <th>16586</th>\n",
       "      <td>1</td>\n",
       "      <td>1</td>\n",
       "    </tr>\n",
       "    <tr>\n",
       "      <th>16587</th>\n",
       "      <td>1</td>\n",
       "      <td>1</td>\n",
       "    </tr>\n",
       "  </tbody>\n",
       "</table>\n",
       "<p>16588 rows × 2 columns</p>\n",
       "</div>"
      ],
      "text/plain": [
       "       prediction  true\n",
       "0               1     1\n",
       "1               1     0\n",
       "2               1     1\n",
       "3               0     1\n",
       "4               0     1\n",
       "...           ...   ...\n",
       "16583           1     1\n",
       "16584           0     0\n",
       "16585           0     0\n",
       "16586           1     1\n",
       "16587           1     1\n",
       "\n",
       "[16588 rows x 2 columns]"
      ]
     },
     "execution_count": 126,
     "metadata": {},
     "output_type": "execute_result"
    }
   ],
   "source": [
    "df_prediction_svm = df_prediction_svm[['prediction','true']]\n",
    "df_prediction_svm"
   ]
  },
  {
   "cell_type": "code",
   "execution_count": 133,
   "id": "db7126b7",
   "metadata": {},
   "outputs": [
    {
     "data": {
      "text/html": [
       "<div>\n",
       "<style scoped>\n",
       "    .dataframe tbody tr th:only-of-type {\n",
       "        vertical-align: middle;\n",
       "    }\n",
       "\n",
       "    .dataframe tbody tr th {\n",
       "        vertical-align: top;\n",
       "    }\n",
       "\n",
       "    .dataframe thead th {\n",
       "        text-align: right;\n",
       "    }\n",
       "</style>\n",
       "<table border=\"1\" class=\"dataframe\">\n",
       "  <thead>\n",
       "    <tr style=\"text-align: right;\">\n",
       "      <th></th>\n",
       "      <th>Most Frequent</th>\n",
       "      <th>Random</th>\n",
       "      <th>Rating Threshold</th>\n",
       "      <th>Naive Bayes</th>\n",
       "      <th>Naive Bayes (Bigram)</th>\n",
       "      <th>SVM</th>\n",
       "      <th>SVM (Bigram)</th>\n",
       "      <th>Logistic Regression</th>\n",
       "      <th>Logistic Regression (Bigram)</th>\n",
       "      <th>LSTM</th>\n",
       "    </tr>\n",
       "    <tr>\n",
       "      <th>Metrics</th>\n",
       "      <th></th>\n",
       "      <th></th>\n",
       "      <th></th>\n",
       "      <th></th>\n",
       "      <th></th>\n",
       "      <th></th>\n",
       "      <th></th>\n",
       "      <th></th>\n",
       "      <th></th>\n",
       "      <th></th>\n",
       "    </tr>\n",
       "  </thead>\n",
       "  <tbody>\n",
       "    <tr>\n",
       "      <th>F1</th>\n",
       "      <td>0.708662</td>\n",
       "      <td>0.550056</td>\n",
       "      <td>0.645743</td>\n",
       "      <td>0.764013</td>\n",
       "      <td>0.710101</td>\n",
       "      <td>0.838749</td>\n",
       "      <td>0.792707</td>\n",
       "      <td>0.856554</td>\n",
       "      <td>0.824860</td>\n",
       "      <td>0.863702</td>\n",
       "    </tr>\n",
       "    <tr>\n",
       "      <th>Accuracy</th>\n",
       "      <td>0.798228</td>\n",
       "      <td>0.501266</td>\n",
       "      <td>0.614679</td>\n",
       "      <td>0.820714</td>\n",
       "      <td>0.798830</td>\n",
       "      <td>0.860080</td>\n",
       "      <td>0.835483</td>\n",
       "      <td>0.868580</td>\n",
       "      <td>0.853207</td>\n",
       "      <td>0.864601</td>\n",
       "    </tr>\n",
       "  </tbody>\n",
       "</table>\n",
       "</div>"
      ],
      "text/plain": [
       "          Most Frequent    Random  Rating Threshold  Naive Bayes  \\\n",
       "Metrics                                                            \n",
       "F1             0.708662  0.550056          0.645743     0.764013   \n",
       "Accuracy       0.798228  0.501266          0.614679     0.820714   \n",
       "\n",
       "          Naive Bayes (Bigram)       SVM  SVM (Bigram)  Logistic Regression  \\\n",
       "Metrics                                                                       \n",
       "F1                    0.710101  0.838749      0.792707             0.856554   \n",
       "Accuracy              0.798830  0.860080      0.835483             0.868580   \n",
       "\n",
       "          Logistic Regression (Bigram)      LSTM  \n",
       "Metrics                                           \n",
       "F1                            0.824860  0.863702  \n",
       "Accuracy                      0.853207  0.864601  "
      ]
     },
     "execution_count": 133,
     "metadata": {},
     "output_type": "execute_result"
    }
   ],
   "source": [
    "df_score['LSTM'] = [f1_score(df_prediction_svm['true'],df_prediction_svm['prediction'], average=\"weighted\"),\n",
    "                    accuracy_score(df_prediction_svm['true'],df_prediction_svm['prediction'])]\n",
    "df_score"
   ]
  },
  {
   "cell_type": "markdown",
   "id": "5f4c5a23",
   "metadata": {},
   "source": [
    "# BERT MiniLM Model"
   ]
  },
  {
   "cell_type": "markdown",
   "id": "7031425b",
   "metadata": {},
   "source": [
    "References:\n",
    "- https://discuss.huggingface.co/t/how-to-create-custom-classlabels/13650\n",
    "- https://discuss.huggingface.co/t/saving-loading-model-in-colab-and-making-predictions/6723\n",
    "- https://huggingface.co/docs/datasets/loading\n",
    "- SI630 Assignment 3"
   ]
  },
  {
   "cell_type": "code",
   "execution_count": 18,
   "id": "07c48ff5",
   "metadata": {},
   "outputs": [],
   "source": [
    "#!pip uninstall transformers -y\n",
    "#!pip uninstall torch -y"
   ]
  },
  {
   "cell_type": "code",
   "execution_count": 134,
   "id": "2e882c37",
   "metadata": {},
   "outputs": [],
   "source": [
    "# !pip install datasets\n",
    "# !pip install transformers\n",
    "# !pip install torch==1.11.0+cu113 torchvision==0.12.0+cu113 torchaudio===0.11.0+cu113 -f https://download.pytorch.org/whl/cu113/torch_stable.html"
   ]
  },
  {
   "cell_type": "code",
   "execution_count": 135,
   "id": "428ebf51",
   "metadata": {},
   "outputs": [],
   "source": [
    "from tokenizers import Tokenizer\n",
    "from transformers import AutoTokenizer\n",
    "from transformers import PreTrainedTokenizerFast\n",
    "\n",
    "import torch\n",
    "from torch import nn\n",
    "from datasets import Dataset, ClassLabel\n",
    "from transformers import AutoTokenizer, Trainer, AutoModelForSequenceClassification, TrainingArguments\n",
    "from sklearn.metrics import f1_score\n",
    "from scipy import stats\n",
    "from sklearn.metrics import mean_squared_error\n",
    "import seaborn as sns\n",
    "import matplotlib.pyplot as plt"
   ]
  },
  {
   "cell_type": "code",
   "execution_count": 136,
   "id": "ca17f55e",
   "metadata": {},
   "outputs": [],
   "source": [
    "df_train = pd.read_csv('train.csv')\n",
    "df_test = pd.read_csv('test.csv')"
   ]
  },
  {
   "cell_type": "code",
   "execution_count": 137,
   "id": "e6279784",
   "metadata": {},
   "outputs": [
    {
     "data": {
      "text/html": [
       "<div>\n",
       "<style scoped>\n",
       "    .dataframe tbody tr th:only-of-type {\n",
       "        vertical-align: middle;\n",
       "    }\n",
       "\n",
       "    .dataframe tbody tr th {\n",
       "        vertical-align: top;\n",
       "    }\n",
       "\n",
       "    .dataframe thead th {\n",
       "        text-align: right;\n",
       "    }\n",
       "</style>\n",
       "<table border=\"1\" class=\"dataframe\">\n",
       "  <thead>\n",
       "    <tr style=\"text-align: right;\">\n",
       "      <th></th>\n",
       "      <th>labels</th>\n",
       "      <th>text</th>\n",
       "    </tr>\n",
       "  </thead>\n",
       "  <tbody>\n",
       "    <tr>\n",
       "      <th>0</th>\n",
       "      <td>1</td>\n",
       "      <td>. It makes your skin look very naturally dewy ...</td>\n",
       "    </tr>\n",
       "    <tr>\n",
       "      <th>1</th>\n",
       "      <td>1</td>\n",
       "      <td>New Staple. Absolutely obsessed with this prod...</td>\n",
       "    </tr>\n",
       "    <tr>\n",
       "      <th>2</th>\n",
       "      <td>1</td>\n",
       "      <td>Great for morning and night. This serum worked...</td>\n",
       "    </tr>\n",
       "    <tr>\n",
       "      <th>3</th>\n",
       "      <td>1</td>\n",
       "      <td>. This product is a luxury. To further explain...</td>\n",
       "    </tr>\n",
       "    <tr>\n",
       "      <th>4</th>\n",
       "      <td>1</td>\n",
       "      <td>. After using it for 1 week my skin feels so s...</td>\n",
       "    </tr>\n",
       "  </tbody>\n",
       "</table>\n",
       "</div>"
      ],
      "text/plain": [
       "   labels                                               text\n",
       "0       1  . It makes your skin look very naturally dewy ...\n",
       "1       1  New Staple. Absolutely obsessed with this prod...\n",
       "2       1  Great for morning and night. This serum worked...\n",
       "3       1  . This product is a luxury. To further explain...\n",
       "4       1  . After using it for 1 week my skin feels so s..."
      ]
     },
     "execution_count": 137,
     "metadata": {},
     "output_type": "execute_result"
    }
   ],
   "source": [
    "df_train.head()"
   ]
  },
  {
   "cell_type": "code",
   "execution_count": 138,
   "id": "bba0ece2",
   "metadata": {},
   "outputs": [
    {
     "data": {
      "application/vnd.jupyter.widget-view+json": {
       "model_id": "c9a4757c34634aa983cdafff17edee53",
       "version_major": 2,
       "version_minor": 0
      },
      "text/plain": [
       "  0%|          | 0/67 [00:00<?, ?ba/s]"
      ]
     },
     "metadata": {},
     "output_type": "display_data"
    },
    {
     "data": {
      "application/vnd.jupyter.widget-view+json": {
       "model_id": "53c42402a02e4f5aa9336aa60ee1afd5",
       "version_major": 2,
       "version_minor": 0
      },
      "text/plain": [
       "  0%|          | 0/17 [00:00<?, ?ba/s]"
      ]
     },
     "metadata": {},
     "output_type": "display_data"
    }
   ],
   "source": [
    "tokenizer = AutoTokenizer.from_pretrained(\"microsoft/MiniLM-L12-H384-uncased\")\n",
    "def tokenize_text(examples):\n",
    "    return tokenizer(examples['text'], truncation=True, max_length=320)\n",
    "\n",
    "train_dataset = Dataset.from_pandas(df_train)\n",
    "train_dataset = train_dataset.map(tokenize_text, batched = True)\n",
    "\n",
    "test_dataset = Dataset.from_pandas(df_test)\n",
    "test_dataset = test_dataset.map(tokenize_text, batched = True)"
   ]
  },
  {
   "cell_type": "code",
   "execution_count": 139,
   "id": "de47a5e0",
   "metadata": {},
   "outputs": [
    {
     "data": {
      "application/vnd.jupyter.widget-view+json": {
       "model_id": "fe05f846d85849188ea8672d7126aae2",
       "version_major": 2,
       "version_minor": 0
      },
      "text/plain": [
       "  0%|          | 0/67 [00:00<?, ?ba/s]"
      ]
     },
     "metadata": {},
     "output_type": "display_data"
    },
    {
     "data": {
      "application/vnd.jupyter.widget-view+json": {
       "model_id": "e8f470f197534abfa962ef024d537e7e",
       "version_major": 2,
       "version_minor": 0
      },
      "text/plain": [
       "  0%|          | 0/17 [00:00<?, ?ba/s]"
      ]
     },
     "metadata": {},
     "output_type": "display_data"
    }
   ],
   "source": [
    "features1 = train_dataset.features.copy()\n",
    "features1['labels'] = ClassLabel(num_classes = 2)\n",
    "\n",
    "features2 = test_dataset.features.copy()\n",
    "features2['labels'] = ClassLabel(num_classes = 2)\n",
    "\n",
    "train_dataset = train_dataset.map(batched=True, features=features1)\n",
    "test_dataset = test_dataset.map(batched=True, features=features2)"
   ]
  },
  {
   "cell_type": "code",
   "execution_count": 140,
   "id": "8140b81d",
   "metadata": {},
   "outputs": [
    {
     "data": {
      "text/plain": [
       "Dataset({\n",
       "    features: ['labels', 'text', 'input_ids', 'token_type_ids', 'attention_mask'],\n",
       "    num_rows: 66348\n",
       "})"
      ]
     },
     "execution_count": 140,
     "metadata": {},
     "output_type": "execute_result"
    }
   ],
   "source": [
    "train_dataset"
   ]
  },
  {
   "cell_type": "code",
   "execution_count": 141,
   "id": "c81fe84c",
   "metadata": {},
   "outputs": [
    {
     "data": {
      "text/plain": [
       "Dataset({\n",
       "    features: ['labels', 'text', 'input_ids', 'token_type_ids', 'attention_mask'],\n",
       "    num_rows: 16588\n",
       "})"
      ]
     },
     "execution_count": 141,
     "metadata": {},
     "output_type": "execute_result"
    }
   ],
   "source": [
    "test_dataset"
   ]
  },
  {
   "cell_type": "code",
   "execution_count": 142,
   "id": "0b87a9d5",
   "metadata": {},
   "outputs": [
    {
     "data": {
      "text/plain": [
       "array([0.79530657, 0.20469343])"
      ]
     },
     "execution_count": 142,
     "metadata": {},
     "output_type": "execute_result"
    }
   ],
   "source": [
    "class_weights = (1-(df_train['labels'].value_counts().sort_index()/len(df_train))).values\n",
    "class_weights"
   ]
  },
  {
   "cell_type": "code",
   "execution_count": 143,
   "id": "e4d485a0",
   "metadata": {},
   "outputs": [
    {
     "data": {
      "text/plain": [
       "tensor([0.7953, 0.2047], device='cuda:0')"
      ]
     },
     "execution_count": 143,
     "metadata": {},
     "output_type": "execute_result"
    }
   ],
   "source": [
    "class_weights = torch.from_numpy(class_weights).float().to('cuda')\n",
    "class_weights"
   ]
  },
  {
   "cell_type": "code",
   "execution_count": 48,
   "id": "3c9741cf",
   "metadata": {},
   "outputs": [
    {
     "name": "stderr",
     "output_type": "stream",
     "text": [
      "Some weights of BertForSequenceClassification were not initialized from the model checkpoint at microsoft/MiniLM-L12-H384-uncased and are newly initialized: ['classifier.weight', 'classifier.bias']\n",
      "You should probably TRAIN this model on a down-stream task to be able to use it for predictions and inference.\n"
     ]
    }
   ],
   "source": [
    "model = AutoModelForSequenceClassification.from_pretrained(\"microsoft/MiniLM-L12-H384-uncased\", \n",
    "                                                           num_labels = 2)"
   ]
  },
  {
   "cell_type": "code",
   "execution_count": 144,
   "id": "583d18bf",
   "metadata": {},
   "outputs": [],
   "source": [
    "class WeightedLossTrainer(Trainer):\n",
    "    def compute_loss(self, model, inputs, return_outputs = False):\n",
    "        outputs = model(**inputs)\n",
    "        logits = outputs.get('logits')\n",
    "        labels = inputs.get('labels')\n",
    "        loss_func = nn.CrossEntropyLoss(weight = class_weights, reduction='mean')\n",
    "        loss = loss_func(logits, labels)\n",
    "        return (loss, outputs) if return_outputs else loss"
   ]
  },
  {
   "cell_type": "code",
   "execution_count": 145,
   "id": "f1e26b64",
   "metadata": {},
   "outputs": [],
   "source": [
    "def compute_metrics(pred):\n",
    "    labels = pred.label_ids\n",
    "    preds = pred.predictions.argmax(-1)\n",
    "    f1 = f1_score(labels, preds, average='weighted')\n",
    "    return {'f1 score': f1}"
   ]
  },
  {
   "cell_type": "code",
   "execution_count": 146,
   "id": "34c64473",
   "metadata": {},
   "outputs": [],
   "source": [
    "batch_size = 32\n",
    "#logging_steps = len(train_dataset)\n",
    "output_dir = \"minilm_trainer\"\n",
    "\n",
    "training_args = TrainingArguments(\n",
    "    output_dir = output_dir,\n",
    "    num_train_epochs = 10,\n",
    "    learning_rate=5e-5,\n",
    "    per_device_train_batch_size=batch_size,\n",
    "    per_device_eval_batch_size=batch_size,\n",
    "    weight_decay=0.01,\n",
    "    fp16 = True,\n",
    "    evaluation_strategy='epoch',\n",
    "    save_steps=2500,\n",
    "    save_total_limit=10,\n",
    "    #load_best_model_at_end= True,\n",
    "    #logging_steps=logging_steps,\n",
    ")"
   ]
  },
  {
   "cell_type": "code",
   "execution_count": 147,
   "id": "3ec9359f",
   "metadata": {},
   "outputs": [
    {
     "name": "stderr",
     "output_type": "stream",
     "text": [
      "Using amp half precision backend\n"
     ]
    }
   ],
   "source": [
    "trainer = WeightedLossTrainer(\n",
    "    model=model,\n",
    "    args=training_args,\n",
    "    compute_metrics=compute_metrics,\n",
    "    train_dataset=train_dataset,\n",
    "    eval_dataset= test_dataset,\n",
    "    tokenizer=tokenizer\n",
    ")"
   ]
  },
  {
   "cell_type": "code",
   "execution_count": 16,
   "id": "b71dbbaa",
   "metadata": {},
   "outputs": [
    {
     "name": "stderr",
     "output_type": "stream",
     "text": [
      "The following columns in the training set  don't have a corresponding argument in `BertForSequenceClassification.forward` and have been ignored: text. If text are not expected by `BertForSequenceClassification.forward`,  you can safely ignore this message.\n",
      "/home/michengz/.local/lib/python3.8/site-packages/transformers/optimization.py:306: FutureWarning: This implementation of AdamW is deprecated and will be removed in a future version. Use the PyTorch implementation torch.optim.AdamW instead, or set `no_deprecation_warning=True` to disable this warning\n",
      "  warnings.warn(\n",
      "***** Running training *****\n",
      "  Num examples = 66348\n",
      "  Num Epochs = 10\n",
      "  Instantaneous batch size per device = 32\n",
      "  Total train batch size (w. parallel, distributed & accumulation) = 32\n",
      "  Gradient Accumulation steps = 1\n",
      "  Total optimization steps = 20740\n"
     ]
    },
    {
     "data": {
      "text/html": [
       "\n",
       "    <div>\n",
       "      \n",
       "      <progress value='20740' max='20740' style='width:300px; height:20px; vertical-align: middle;'></progress>\n",
       "      [20740/20740 43:07, Epoch 10/10]\n",
       "    </div>\n",
       "    <table border=\"1\" class=\"dataframe\">\n",
       "  <thead>\n",
       " <tr style=\"text-align: left;\">\n",
       "      <th>Epoch</th>\n",
       "      <th>Training Loss</th>\n",
       "      <th>Validation Loss</th>\n",
       "      <th>F1 score</th>\n",
       "    </tr>\n",
       "  </thead>\n",
       "  <tbody>\n",
       "    <tr>\n",
       "      <td>1</td>\n",
       "      <td>0.347700</td>\n",
       "      <td>0.334288</td>\n",
       "      <td>0.880225</td>\n",
       "    </tr>\n",
       "    <tr>\n",
       "      <td>2</td>\n",
       "      <td>0.299300</td>\n",
       "      <td>0.370917</td>\n",
       "      <td>0.814461</td>\n",
       "    </tr>\n",
       "    <tr>\n",
       "      <td>3</td>\n",
       "      <td>0.248100</td>\n",
       "      <td>0.357905</td>\n",
       "      <td>0.895027</td>\n",
       "    </tr>\n",
       "    <tr>\n",
       "      <td>4</td>\n",
       "      <td>0.196200</td>\n",
       "      <td>0.401952</td>\n",
       "      <td>0.895577</td>\n",
       "    </tr>\n",
       "    <tr>\n",
       "      <td>5</td>\n",
       "      <td>0.159000</td>\n",
       "      <td>0.475617</td>\n",
       "      <td>0.900224</td>\n",
       "    </tr>\n",
       "    <tr>\n",
       "      <td>6</td>\n",
       "      <td>0.128400</td>\n",
       "      <td>0.615603</td>\n",
       "      <td>0.902207</td>\n",
       "    </tr>\n",
       "    <tr>\n",
       "      <td>7</td>\n",
       "      <td>0.101600</td>\n",
       "      <td>0.802879</td>\n",
       "      <td>0.900004</td>\n",
       "    </tr>\n",
       "    <tr>\n",
       "      <td>8</td>\n",
       "      <td>0.078300</td>\n",
       "      <td>0.788008</td>\n",
       "      <td>0.903461</td>\n",
       "    </tr>\n",
       "    <tr>\n",
       "      <td>9</td>\n",
       "      <td>0.060300</td>\n",
       "      <td>0.838879</td>\n",
       "      <td>0.903678</td>\n",
       "    </tr>\n",
       "    <tr>\n",
       "      <td>10</td>\n",
       "      <td>0.044400</td>\n",
       "      <td>0.870248</td>\n",
       "      <td>0.902981</td>\n",
       "    </tr>\n",
       "  </tbody>\n",
       "</table><p>"
      ],
      "text/plain": [
       "<IPython.core.display.HTML object>"
      ]
     },
     "metadata": {},
     "output_type": "display_data"
    },
    {
     "name": "stderr",
     "output_type": "stream",
     "text": [
      "The following columns in the evaluation set  don't have a corresponding argument in `BertForSequenceClassification.forward` and have been ignored: text. If text are not expected by `BertForSequenceClassification.forward`,  you can safely ignore this message.\n",
      "***** Running Evaluation *****\n",
      "  Num examples = 16588\n",
      "  Batch size = 32\n",
      "Saving model checkpoint to minilm_trainer/checkpoint-2500\n",
      "Configuration saved in minilm_trainer/checkpoint-2500/config.json\n",
      "Model weights saved in minilm_trainer/checkpoint-2500/pytorch_model.bin\n",
      "tokenizer config file saved in minilm_trainer/checkpoint-2500/tokenizer_config.json\n",
      "Special tokens file saved in minilm_trainer/checkpoint-2500/special_tokens_map.json\n",
      "The following columns in the evaluation set  don't have a corresponding argument in `BertForSequenceClassification.forward` and have been ignored: text. If text are not expected by `BertForSequenceClassification.forward`,  you can safely ignore this message.\n",
      "***** Running Evaluation *****\n",
      "  Num examples = 16588\n",
      "  Batch size = 32\n",
      "Saving model checkpoint to minilm_trainer/checkpoint-5000\n",
      "Configuration saved in minilm_trainer/checkpoint-5000/config.json\n",
      "Model weights saved in minilm_trainer/checkpoint-5000/pytorch_model.bin\n",
      "tokenizer config file saved in minilm_trainer/checkpoint-5000/tokenizer_config.json\n",
      "Special tokens file saved in minilm_trainer/checkpoint-5000/special_tokens_map.json\n",
      "The following columns in the evaluation set  don't have a corresponding argument in `BertForSequenceClassification.forward` and have been ignored: text. If text are not expected by `BertForSequenceClassification.forward`,  you can safely ignore this message.\n",
      "***** Running Evaluation *****\n",
      "  Num examples = 16588\n",
      "  Batch size = 32\n",
      "Saving model checkpoint to minilm_trainer/checkpoint-7500\n",
      "Configuration saved in minilm_trainer/checkpoint-7500/config.json\n",
      "Model weights saved in minilm_trainer/checkpoint-7500/pytorch_model.bin\n",
      "tokenizer config file saved in minilm_trainer/checkpoint-7500/tokenizer_config.json\n",
      "Special tokens file saved in minilm_trainer/checkpoint-7500/special_tokens_map.json\n",
      "The following columns in the evaluation set  don't have a corresponding argument in `BertForSequenceClassification.forward` and have been ignored: text. If text are not expected by `BertForSequenceClassification.forward`,  you can safely ignore this message.\n",
      "***** Running Evaluation *****\n",
      "  Num examples = 16588\n",
      "  Batch size = 32\n",
      "Saving model checkpoint to minilm_trainer/checkpoint-10000\n",
      "Configuration saved in minilm_trainer/checkpoint-10000/config.json\n",
      "Model weights saved in minilm_trainer/checkpoint-10000/pytorch_model.bin\n",
      "tokenizer config file saved in minilm_trainer/checkpoint-10000/tokenizer_config.json\n",
      "Special tokens file saved in minilm_trainer/checkpoint-10000/special_tokens_map.json\n",
      "The following columns in the evaluation set  don't have a corresponding argument in `BertForSequenceClassification.forward` and have been ignored: text. If text are not expected by `BertForSequenceClassification.forward`,  you can safely ignore this message.\n",
      "***** Running Evaluation *****\n",
      "  Num examples = 16588\n",
      "  Batch size = 32\n",
      "The following columns in the evaluation set  don't have a corresponding argument in `BertForSequenceClassification.forward` and have been ignored: text. If text are not expected by `BertForSequenceClassification.forward`,  you can safely ignore this message.\n",
      "***** Running Evaluation *****\n",
      "  Num examples = 16588\n",
      "  Batch size = 32\n",
      "Saving model checkpoint to minilm_trainer/checkpoint-12500\n",
      "Configuration saved in minilm_trainer/checkpoint-12500/config.json\n",
      "Model weights saved in minilm_trainer/checkpoint-12500/pytorch_model.bin\n",
      "tokenizer config file saved in minilm_trainer/checkpoint-12500/tokenizer_config.json\n",
      "Special tokens file saved in minilm_trainer/checkpoint-12500/special_tokens_map.json\n",
      "The following columns in the evaluation set  don't have a corresponding argument in `BertForSequenceClassification.forward` and have been ignored: text. If text are not expected by `BertForSequenceClassification.forward`,  you can safely ignore this message.\n",
      "***** Running Evaluation *****\n",
      "  Num examples = 16588\n",
      "  Batch size = 32\n",
      "Saving model checkpoint to minilm_trainer/checkpoint-15000\n",
      "Configuration saved in minilm_trainer/checkpoint-15000/config.json\n",
      "Model weights saved in minilm_trainer/checkpoint-15000/pytorch_model.bin\n",
      "tokenizer config file saved in minilm_trainer/checkpoint-15000/tokenizer_config.json\n",
      "Special tokens file saved in minilm_trainer/checkpoint-15000/special_tokens_map.json\n",
      "The following columns in the evaluation set  don't have a corresponding argument in `BertForSequenceClassification.forward` and have been ignored: text. If text are not expected by `BertForSequenceClassification.forward`,  you can safely ignore this message.\n",
      "***** Running Evaluation *****\n",
      "  Num examples = 16588\n",
      "  Batch size = 32\n",
      "Saving model checkpoint to minilm_trainer/checkpoint-17500\n",
      "Configuration saved in minilm_trainer/checkpoint-17500/config.json\n",
      "Model weights saved in minilm_trainer/checkpoint-17500/pytorch_model.bin\n",
      "tokenizer config file saved in minilm_trainer/checkpoint-17500/tokenizer_config.json\n",
      "Special tokens file saved in minilm_trainer/checkpoint-17500/special_tokens_map.json\n",
      "The following columns in the evaluation set  don't have a corresponding argument in `BertForSequenceClassification.forward` and have been ignored: text. If text are not expected by `BertForSequenceClassification.forward`,  you can safely ignore this message.\n",
      "***** Running Evaluation *****\n",
      "  Num examples = 16588\n",
      "  Batch size = 32\n",
      "Saving model checkpoint to minilm_trainer/checkpoint-20000\n",
      "Configuration saved in minilm_trainer/checkpoint-20000/config.json\n",
      "Model weights saved in minilm_trainer/checkpoint-20000/pytorch_model.bin\n",
      "tokenizer config file saved in minilm_trainer/checkpoint-20000/tokenizer_config.json\n",
      "Special tokens file saved in minilm_trainer/checkpoint-20000/special_tokens_map.json\n",
      "The following columns in the evaluation set  don't have a corresponding argument in `BertForSequenceClassification.forward` and have been ignored: text. If text are not expected by `BertForSequenceClassification.forward`,  you can safely ignore this message.\n",
      "***** Running Evaluation *****\n",
      "  Num examples = 16588\n",
      "  Batch size = 32\n",
      "\n",
      "\n",
      "Training completed. Do not forget to share your model on huggingface.co/models =)\n",
      "\n",
      "\n"
     ]
    },
    {
     "data": {
      "text/plain": [
       "TrainOutput(global_step=20740, training_loss=0.1692064943286009, metrics={'train_runtime': 2587.2133, 'train_samples_per_second': 256.446, 'train_steps_per_second': 8.016, 'total_flos': 2.061133794876744e+16, 'train_loss': 0.1692064943286009, 'epoch': 10.0})"
      ]
     },
     "execution_count": 16,
     "metadata": {},
     "output_type": "execute_result"
    }
   ],
   "source": [
    "trainer.train()"
   ]
  },
  {
   "cell_type": "code",
   "execution_count": 84,
   "id": "77893506",
   "metadata": {},
   "outputs": [
    {
     "name": "stderr",
     "output_type": "stream",
     "text": [
      "Saving model checkpoint to bert_moel\n",
      "Configuration saved in bert_moel/config.json\n",
      "Model weights saved in bert_moel/pytorch_model.bin\n",
      "tokenizer config file saved in bert_moel/tokenizer_config.json\n",
      "Special tokens file saved in bert_moel/special_tokens_map.json\n"
     ]
    }
   ],
   "source": [
    "trainer.save_model('bert_moel')"
   ]
  },
  {
   "cell_type": "markdown",
   "id": "0ad20a92",
   "metadata": {},
   "source": [
    "### Saving & Loading BERT model"
   ]
  },
  {
   "cell_type": "code",
   "execution_count": 85,
   "id": "3b2c3696",
   "metadata": {},
   "outputs": [],
   "source": [
    "# torch.save(model.state_dict(), 'bert_model') "
   ]
  },
  {
   "cell_type": "code",
   "execution_count": 148,
   "id": "7676c96f",
   "metadata": {
    "scrolled": true
   },
   "outputs": [
    {
     "name": "stderr",
     "output_type": "stream",
     "text": [
      "loading configuration file https://huggingface.co/microsoft/MiniLM-L12-H384-uncased/resolve/main/config.json from cache at /home/michengz/.cache/huggingface/transformers/ceb753d3f27a8c0d09184f35884666cda91b8ae610cd2a54d89793ac7663f1f9.13815020fd994b27db9974c0ce0ec4c47dfac6c8f11bf1a35a0a06d5b165665a\n",
      "Model config BertConfig {\n",
      "  \"_name_or_path\": \"microsoft/MiniLM-L12-H384-uncased\",\n",
      "  \"attention_probs_dropout_prob\": 0.1,\n",
      "  \"classifier_dropout\": null,\n",
      "  \"hidden_act\": \"gelu\",\n",
      "  \"hidden_dropout_prob\": 0.1,\n",
      "  \"hidden_size\": 384,\n",
      "  \"initializer_range\": 0.02,\n",
      "  \"intermediate_size\": 1536,\n",
      "  \"layer_norm_eps\": 1e-12,\n",
      "  \"max_position_embeddings\": 512,\n",
      "  \"model_type\": \"bert\",\n",
      "  \"num_attention_heads\": 12,\n",
      "  \"num_hidden_layers\": 12,\n",
      "  \"pad_token_id\": 0,\n",
      "  \"position_embedding_type\": \"absolute\",\n",
      "  \"transformers_version\": \"4.18.0\",\n",
      "  \"type_vocab_size\": 2,\n",
      "  \"use_cache\": true,\n",
      "  \"vocab_size\": 30522\n",
      "}\n",
      "\n",
      "loading weights file https://huggingface.co/microsoft/MiniLM-L12-H384-uncased/resolve/main/pytorch_model.bin from cache at /home/michengz/.cache/huggingface/transformers/b774244369e464de2c660477b70bae7c3223fa7250aa1c8fc0b0f037ed58418a.087808d17814e241e9352c5ce0fea1a7d05e5b0f020d44b42b5f05922e96c923\n",
      "All model checkpoint weights were used when initializing BertForSequenceClassification.\n",
      "\n",
      "Some weights of BertForSequenceClassification were not initialized from the model checkpoint at microsoft/MiniLM-L12-H384-uncased and are newly initialized: ['classifier.bias', 'classifier.weight']\n",
      "You should probably TRAIN this model on a down-stream task to be able to use it for predictions and inference.\n"
     ]
    },
    {
     "data": {
      "text/plain": [
       "<All keys matched successfully>"
      ]
     },
     "execution_count": 148,
     "metadata": {},
     "output_type": "execute_result"
    }
   ],
   "source": [
    "model = AutoModelForSequenceClassification.from_pretrained(\"microsoft/MiniLM-L12-H384-uncased\", \n",
    "                                                           num_labels = 2)\n",
    "model.load_state_dict(torch.load('bert_model'))"
   ]
  },
  {
   "cell_type": "code",
   "execution_count": 149,
   "id": "de71225a",
   "metadata": {},
   "outputs": [
    {
     "name": "stderr",
     "output_type": "stream",
     "text": [
      "Using amp half precision backend\n"
     ]
    }
   ],
   "source": [
    "trainer = WeightedLossTrainer(model=model,\n",
    "                              args=training_args,\n",
    "                              compute_metrics=compute_metrics,\n",
    "                              train_dataset=train_dataset,\n",
    "                              eval_dataset= test_dataset,\n",
    "                              tokenizer=tokenizer\n",
    "                             )\n",
    "#trainer.model = model.cuda()"
   ]
  },
  {
   "cell_type": "code",
   "execution_count": 164,
   "id": "fd83d047",
   "metadata": {},
   "outputs": [
    {
     "name": "stderr",
     "output_type": "stream",
     "text": [
      "The following columns in the test set  don't have a corresponding argument in `BertForSequenceClassification.forward` and have been ignored: text. If text are not expected by `BertForSequenceClassification.forward`,  you can safely ignore this message.\n",
      "***** Running Prediction *****\n",
      "  Num examples = 16588\n",
      "  Batch size = 32\n"
     ]
    },
    {
     "data": {
      "text/plain": [
       "PredictionOutput(predictions=array([[-3.525,  3.787],\n",
       "       [-3.451,  3.695],\n",
       "       [-3.516,  3.773],\n",
       "       ...,\n",
       "       [-3.475,  3.72 ],\n",
       "       [-3.48 ,  3.73 ],\n",
       "       [-2.941,  3.102]], dtype=float16), label_ids=array([1, 1, 1, ..., 1, 1, 0]), metrics={'test_loss': 0.8702500462532043, 'test_f1 score': 0.9027929056332137, 'test_runtime': 23.1202, 'test_samples_per_second': 717.467, 'test_steps_per_second': 22.448})"
      ]
     },
     "execution_count": 164,
     "metadata": {},
     "output_type": "execute_result"
    }
   ],
   "source": [
    "predictions = trainer.predict(test_dataset)\n",
    "predictions"
   ]
  },
  {
   "cell_type": "code",
   "execution_count": 165,
   "id": "3686f0ba",
   "metadata": {},
   "outputs": [
    {
     "data": {
      "text/plain": [
       "array([1, 1, 1, ..., 1, 1, 1])"
      ]
     },
     "execution_count": 165,
     "metadata": {},
     "output_type": "execute_result"
    }
   ],
   "source": [
    "y_pred_bert = predictions.predictions.argmax(-1)\n",
    "y_pred_bert"
   ]
  },
  {
   "cell_type": "code",
   "execution_count": 171,
   "id": "f8fd8938",
   "metadata": {},
   "outputs": [
    {
     "data": {
      "text/html": [
       "<div>\n",
       "<style scoped>\n",
       "    .dataframe tbody tr th:only-of-type {\n",
       "        vertical-align: middle;\n",
       "    }\n",
       "\n",
       "    .dataframe tbody tr th {\n",
       "        vertical-align: top;\n",
       "    }\n",
       "\n",
       "    .dataframe thead th {\n",
       "        text-align: right;\n",
       "    }\n",
       "</style>\n",
       "<table border=\"1\" class=\"dataframe\">\n",
       "  <thead>\n",
       "    <tr style=\"text-align: right;\">\n",
       "      <th></th>\n",
       "      <th>true</th>\n",
       "      <th>preds</th>\n",
       "    </tr>\n",
       "  </thead>\n",
       "  <tbody>\n",
       "    <tr>\n",
       "      <th>0</th>\n",
       "      <td>1</td>\n",
       "      <td>1</td>\n",
       "    </tr>\n",
       "    <tr>\n",
       "      <th>1</th>\n",
       "      <td>1</td>\n",
       "      <td>1</td>\n",
       "    </tr>\n",
       "    <tr>\n",
       "      <th>2</th>\n",
       "      <td>1</td>\n",
       "      <td>1</td>\n",
       "    </tr>\n",
       "    <tr>\n",
       "      <th>3</th>\n",
       "      <td>1</td>\n",
       "      <td>0</td>\n",
       "    </tr>\n",
       "    <tr>\n",
       "      <th>4</th>\n",
       "      <td>1</td>\n",
       "      <td>1</td>\n",
       "    </tr>\n",
       "    <tr>\n",
       "      <th>...</th>\n",
       "      <td>...</td>\n",
       "      <td>...</td>\n",
       "    </tr>\n",
       "    <tr>\n",
       "      <th>16583</th>\n",
       "      <td>1</td>\n",
       "      <td>1</td>\n",
       "    </tr>\n",
       "    <tr>\n",
       "      <th>16584</th>\n",
       "      <td>1</td>\n",
       "      <td>0</td>\n",
       "    </tr>\n",
       "    <tr>\n",
       "      <th>16585</th>\n",
       "      <td>1</td>\n",
       "      <td>1</td>\n",
       "    </tr>\n",
       "    <tr>\n",
       "      <th>16586</th>\n",
       "      <td>1</td>\n",
       "      <td>1</td>\n",
       "    </tr>\n",
       "    <tr>\n",
       "      <th>16587</th>\n",
       "      <td>0</td>\n",
       "      <td>1</td>\n",
       "    </tr>\n",
       "  </tbody>\n",
       "</table>\n",
       "<p>16588 rows × 2 columns</p>\n",
       "</div>"
      ],
      "text/plain": [
       "       true  preds\n",
       "0         1      1\n",
       "1         1      1\n",
       "2         1      1\n",
       "3         1      0\n",
       "4         1      1\n",
       "...     ...    ...\n",
       "16583     1      1\n",
       "16584     1      0\n",
       "16585     1      1\n",
       "16586     1      1\n",
       "16587     0      1\n",
       "\n",
       "[16588 rows x 2 columns]"
      ]
     },
     "execution_count": 171,
     "metadata": {},
     "output_type": "execute_result"
    }
   ],
   "source": [
    "df_bert = pd.DataFrame({'true':test_dataset['labels'],'preds':y_pred_bert})\n",
    "df_bert"
   ]
  },
  {
   "cell_type": "code",
   "execution_count": 174,
   "id": "af3269ec",
   "metadata": {},
   "outputs": [
    {
     "data": {
      "text/html": [
       "<div>\n",
       "<style scoped>\n",
       "    .dataframe tbody tr th:only-of-type {\n",
       "        vertical-align: middle;\n",
       "    }\n",
       "\n",
       "    .dataframe tbody tr th {\n",
       "        vertical-align: top;\n",
       "    }\n",
       "\n",
       "    .dataframe thead th {\n",
       "        text-align: right;\n",
       "    }\n",
       "</style>\n",
       "<table border=\"1\" class=\"dataframe\">\n",
       "  <thead>\n",
       "    <tr style=\"text-align: right;\">\n",
       "      <th></th>\n",
       "      <th>Most Frequent</th>\n",
       "      <th>Random</th>\n",
       "      <th>Rating Threshold</th>\n",
       "      <th>Naive Bayes</th>\n",
       "      <th>Naive Bayes (Bigram)</th>\n",
       "      <th>SVM</th>\n",
       "      <th>SVM (Bigram)</th>\n",
       "      <th>Logistic Regression</th>\n",
       "      <th>Logistic Regression (Bigram)</th>\n",
       "      <th>LSTM</th>\n",
       "      <th>BERT MiniLM</th>\n",
       "    </tr>\n",
       "    <tr>\n",
       "      <th>Metrics</th>\n",
       "      <th></th>\n",
       "      <th></th>\n",
       "      <th></th>\n",
       "      <th></th>\n",
       "      <th></th>\n",
       "      <th></th>\n",
       "      <th></th>\n",
       "      <th></th>\n",
       "      <th></th>\n",
       "      <th></th>\n",
       "      <th></th>\n",
       "    </tr>\n",
       "  </thead>\n",
       "  <tbody>\n",
       "    <tr>\n",
       "      <th>F1</th>\n",
       "      <td>0.708662</td>\n",
       "      <td>0.550056</td>\n",
       "      <td>0.645743</td>\n",
       "      <td>0.764013</td>\n",
       "      <td>0.710101</td>\n",
       "      <td>0.838749</td>\n",
       "      <td>0.792707</td>\n",
       "      <td>0.856554</td>\n",
       "      <td>0.824860</td>\n",
       "      <td>0.863702</td>\n",
       "      <td>0.940135</td>\n",
       "    </tr>\n",
       "    <tr>\n",
       "      <th>Accuracy</th>\n",
       "      <td>0.798228</td>\n",
       "      <td>0.501266</td>\n",
       "      <td>0.614679</td>\n",
       "      <td>0.820714</td>\n",
       "      <td>0.798830</td>\n",
       "      <td>0.860080</td>\n",
       "      <td>0.835483</td>\n",
       "      <td>0.868580</td>\n",
       "      <td>0.853207</td>\n",
       "      <td>0.864601</td>\n",
       "      <td>0.903786</td>\n",
       "    </tr>\n",
       "  </tbody>\n",
       "</table>\n",
       "</div>"
      ],
      "text/plain": [
       "          Most Frequent    Random  Rating Threshold  Naive Bayes  \\\n",
       "Metrics                                                            \n",
       "F1             0.708662  0.550056          0.645743     0.764013   \n",
       "Accuracy       0.798228  0.501266          0.614679     0.820714   \n",
       "\n",
       "          Naive Bayes (Bigram)       SVM  SVM (Bigram)  Logistic Regression  \\\n",
       "Metrics                                                                       \n",
       "F1                    0.710101  0.838749      0.792707             0.856554   \n",
       "Accuracy              0.798830  0.860080      0.835483             0.868580   \n",
       "\n",
       "          Logistic Regression (Bigram)      LSTM  BERT MiniLM  \n",
       "Metrics                                                        \n",
       "F1                            0.824860  0.863702     0.940135  \n",
       "Accuracy                      0.853207  0.864601     0.903786  "
      ]
     },
     "execution_count": 174,
     "metadata": {},
     "output_type": "execute_result"
    }
   ],
   "source": [
    "df_score['BERT MiniLM'] = [f1_score(df_bert['true'],df_bert['preds']),accuracy_score(df_bert['true'],df_bert['preds'])]\n",
    "df_score"
   ]
  },
  {
   "cell_type": "code",
   "execution_count": 151,
   "id": "f4aff5b6",
   "metadata": {},
   "outputs": [
    {
     "name": "stderr",
     "output_type": "stream",
     "text": [
      "The following columns in the test set  don't have a corresponding argument in `BertForSequenceClassification.forward` and have been ignored: text. If text are not expected by `BertForSequenceClassification.forward`,  you can safely ignore this message.\n",
      "***** Running Prediction *****\n",
      "  Num examples = 16588\n",
      "  Batch size = 32\n"
     ]
    }
   ],
   "source": [
    "raw_pred, _, _ = trainer.predict(test_dataset)"
   ]
  },
  {
   "cell_type": "code",
   "execution_count": 152,
   "id": "fd046caf",
   "metadata": {},
   "outputs": [],
   "source": [
    "y_proba_bert = nn.functional.softmax(torch.from_numpy(raw_pred).float(), dim=-1).numpy()"
   ]
  },
  {
   "cell_type": "markdown",
   "id": "4a325bd1",
   "metadata": {},
   "source": [
    "# Evaluating Models"
   ]
  },
  {
   "cell_type": "markdown",
   "id": "0b67cadf",
   "metadata": {},
   "source": [
    "### F1 and Accuracy Scores"
   ]
  },
  {
   "cell_type": "code",
   "execution_count": 182,
   "id": "d37f6211",
   "metadata": {},
   "outputs": [],
   "source": [
    "# !pip install dataframe_image"
   ]
  },
  {
   "cell_type": "code",
   "execution_count": 180,
   "id": "17fc0cb9",
   "metadata": {},
   "outputs": [
    {
     "data": {
      "text/html": [
       "<div>\n",
       "<style scoped>\n",
       "    .dataframe tbody tr th:only-of-type {\n",
       "        vertical-align: middle;\n",
       "    }\n",
       "\n",
       "    .dataframe tbody tr th {\n",
       "        vertical-align: top;\n",
       "    }\n",
       "\n",
       "    .dataframe thead th {\n",
       "        text-align: right;\n",
       "    }\n",
       "</style>\n",
       "<table border=\"1\" class=\"dataframe\">\n",
       "  <thead>\n",
       "    <tr style=\"text-align: right;\">\n",
       "      <th>Metrics</th>\n",
       "      <th>F1</th>\n",
       "      <th>Accuracy</th>\n",
       "    </tr>\n",
       "  </thead>\n",
       "  <tbody>\n",
       "    <tr>\n",
       "      <th>Most Frequent</th>\n",
       "      <td>0.708662</td>\n",
       "      <td>0.798228</td>\n",
       "    </tr>\n",
       "    <tr>\n",
       "      <th>Random</th>\n",
       "      <td>0.550056</td>\n",
       "      <td>0.501266</td>\n",
       "    </tr>\n",
       "    <tr>\n",
       "      <th>Rating Threshold</th>\n",
       "      <td>0.645743</td>\n",
       "      <td>0.614679</td>\n",
       "    </tr>\n",
       "    <tr>\n",
       "      <th>Naive Bayes</th>\n",
       "      <td>0.764013</td>\n",
       "      <td>0.820714</td>\n",
       "    </tr>\n",
       "    <tr>\n",
       "      <th>Naive Bayes (Bigram)</th>\n",
       "      <td>0.710101</td>\n",
       "      <td>0.798830</td>\n",
       "    </tr>\n",
       "    <tr>\n",
       "      <th>SVM</th>\n",
       "      <td>0.838749</td>\n",
       "      <td>0.860080</td>\n",
       "    </tr>\n",
       "    <tr>\n",
       "      <th>SVM (Bigram)</th>\n",
       "      <td>0.792707</td>\n",
       "      <td>0.835483</td>\n",
       "    </tr>\n",
       "    <tr>\n",
       "      <th>Logistic Regression</th>\n",
       "      <td>0.856554</td>\n",
       "      <td>0.868580</td>\n",
       "    </tr>\n",
       "    <tr>\n",
       "      <th>Logistic Regression (Bigram)</th>\n",
       "      <td>0.824860</td>\n",
       "      <td>0.853207</td>\n",
       "    </tr>\n",
       "    <tr>\n",
       "      <th>LSTM</th>\n",
       "      <td>0.863702</td>\n",
       "      <td>0.864601</td>\n",
       "    </tr>\n",
       "    <tr>\n",
       "      <th>BERT MiniLM</th>\n",
       "      <td>0.940135</td>\n",
       "      <td>0.903786</td>\n",
       "    </tr>\n",
       "  </tbody>\n",
       "</table>\n",
       "</div>"
      ],
      "text/plain": [
       "Metrics                             F1  Accuracy\n",
       "Most Frequent                 0.708662  0.798228\n",
       "Random                        0.550056  0.501266\n",
       "Rating Threshold              0.645743  0.614679\n",
       "Naive Bayes                   0.764013  0.820714\n",
       "Naive Bayes (Bigram)          0.710101  0.798830\n",
       "SVM                           0.838749  0.860080\n",
       "SVM (Bigram)                  0.792707  0.835483\n",
       "Logistic Regression           0.856554  0.868580\n",
       "Logistic Regression (Bigram)  0.824860  0.853207\n",
       "LSTM                          0.863702  0.864601\n",
       "BERT MiniLM                   0.940135  0.903786"
      ]
     },
     "execution_count": 180,
     "metadata": {},
     "output_type": "execute_result"
    }
   ],
   "source": [
    "df_score.T"
   ]
  },
  {
   "cell_type": "code",
   "execution_count": 284,
   "id": "9f3df339",
   "metadata": {},
   "outputs": [
    {
     "data": {
      "text/html": [
       "<div>\n",
       "<style scoped>\n",
       "    .dataframe tbody tr th:only-of-type {\n",
       "        vertical-align: middle;\n",
       "    }\n",
       "\n",
       "    .dataframe tbody tr th {\n",
       "        vertical-align: top;\n",
       "    }\n",
       "\n",
       "    .dataframe thead th {\n",
       "        text-align: right;\n",
       "    }\n",
       "</style>\n",
       "<table border=\"1\" class=\"dataframe\">\n",
       "  <thead>\n",
       "    <tr style=\"text-align: right;\">\n",
       "      <th>Metrics</th>\n",
       "      <th>F1</th>\n",
       "      <th>Accuracy</th>\n",
       "    </tr>\n",
       "  </thead>\n",
       "  <tbody>\n",
       "    <tr>\n",
       "      <th>Naive Bayes</th>\n",
       "      <td>0.764013</td>\n",
       "      <td>0.820714</td>\n",
       "    </tr>\n",
       "    <tr>\n",
       "      <th>Naive Bayes (Bigram)</th>\n",
       "      <td>0.710101</td>\n",
       "      <td>0.798830</td>\n",
       "    </tr>\n",
       "    <tr>\n",
       "      <th>SVM</th>\n",
       "      <td>0.838749</td>\n",
       "      <td>0.860080</td>\n",
       "    </tr>\n",
       "    <tr>\n",
       "      <th>SVM (Bigram)</th>\n",
       "      <td>0.792707</td>\n",
       "      <td>0.835483</td>\n",
       "    </tr>\n",
       "    <tr>\n",
       "      <th>Logistic Regression</th>\n",
       "      <td>0.856554</td>\n",
       "      <td>0.868580</td>\n",
       "    </tr>\n",
       "    <tr>\n",
       "      <th>Logistic Regression (Bigram)</th>\n",
       "      <td>0.824860</td>\n",
       "      <td>0.853207</td>\n",
       "    </tr>\n",
       "    <tr>\n",
       "      <th>LSTM</th>\n",
       "      <td>0.863702</td>\n",
       "      <td>0.864601</td>\n",
       "    </tr>\n",
       "    <tr>\n",
       "      <th>BERT MiniLM</th>\n",
       "      <td>0.940135</td>\n",
       "      <td>0.903786</td>\n",
       "    </tr>\n",
       "  </tbody>\n",
       "</table>\n",
       "</div>"
      ],
      "text/plain": [
       "Metrics                             F1  Accuracy\n",
       "Naive Bayes                   0.764013  0.820714\n",
       "Naive Bayes (Bigram)          0.710101  0.798830\n",
       "SVM                           0.838749  0.860080\n",
       "SVM (Bigram)                  0.792707  0.835483\n",
       "Logistic Regression           0.856554  0.868580\n",
       "Logistic Regression (Bigram)  0.824860  0.853207\n",
       "LSTM                          0.863702  0.864601\n",
       "BERT MiniLM                   0.940135  0.903786"
      ]
     },
     "execution_count": 284,
     "metadata": {},
     "output_type": "execute_result"
    }
   ],
   "source": [
    "df_score[['Naive Bayes','Naive Bayes (Bigram)','SVM','SVM (Bigram)','Logistic Regression','Logistic Regression (Bigram)','LSTM','BERT MiniLM']].T"
   ]
  },
  {
   "cell_type": "markdown",
   "id": "e6c86621",
   "metadata": {},
   "source": [
    "### ROC and AUC"
   ]
  },
  {
   "cell_type": "code",
   "execution_count": 153,
   "id": "fe843484",
   "metadata": {},
   "outputs": [],
   "source": [
    "from sklearn.metrics import roc_curve\n",
    "from sklearn.metrics import roc_auc_score"
   ]
  },
  {
   "cell_type": "code",
   "execution_count": 154,
   "id": "8d08e763",
   "metadata": {},
   "outputs": [],
   "source": [
    "def plot_roc_curve(fper, tper):\n",
    "    plt.plot(fper, tper, color='red', label='ROC')\n",
    "    plt.plot([0, 1], [0, 1], color='green', linestyle='--')\n",
    "    plt.xlabel('False Positive Rate')\n",
    "    plt.ylabel('True Positive Rate')\n",
    "    plt.title('Receiver Operating Characteristic Curve')\n",
    "    plt.legend()\n",
    "    plt.show()"
   ]
  },
  {
   "cell_type": "code",
   "execution_count": 155,
   "id": "9b5b8b6e",
   "metadata": {},
   "outputs": [],
   "source": [
    "fpr1, tpr1, thresholds1 = roc_curve(y_true, y_proba)\n",
    "fpr2, tpr2, thresholds2 = roc_curve(y_test, y_proba_logreg[:,1])\n",
    "fpr3, tpr3, thresholds3 = roc_curve(y_test, y_proba_svm)\n",
    "fpr4, tpr4, thresholds4 = roc_curve(y_test, y_proba_nb[:,1])\n",
    "fpr5, tpr5, thresholds5 = roc_curve(test_dataset['labels'], y_proba_bert[:,1])"
   ]
  },
  {
   "cell_type": "code",
   "execution_count": 262,
   "id": "3cfc986f",
   "metadata": {},
   "outputs": [
    {
     "data": {
      "image/png": "[encoded data removed]",
      "text/plain": [
       "<Figure size 432x288 with 1 Axes>"
      ]
     },
     "metadata": {},
     "output_type": "display_data"
    }
   ],
   "source": [
    "# Plotting ROC Curve\n",
    "plt.plot(fpr5, tpr5, linestyle='--', label='BERT MiniLM  (AUC = '+str(round(roc_auc_score(test_dataset['labels'], y_proba_bert[:,1]),4))+')',linewidth=2)\n",
    "plt.plot(fpr1, tpr1, linestyle='--', label='LSTM  (AUC = '+str(round(roc_auc_score(y_true, y_proba),4))+')',linewidth=2)\n",
    "plt.plot(fpr2, tpr2, linestyle='--', label='Logistic Regression  (AUC = '+str(round(roc_auc_score(y_test, y_proba_logreg[:,1]),4))+')',linewidth=2)\n",
    "plt.plot(fpr3, tpr3, linestyle='--', label='SVM  (AUC = '+str(round(roc_auc_score(y_test, y_proba_svm),4))+')',linewidth=2)\n",
    "plt.plot(fpr4, tpr4, linestyle='--', label='Naive Bayes  (AUC = '+str(round(roc_auc_score(y_test, y_proba_nb[:,1]),4))+')',linewidth=2, color = 'gray')\n",
    "plt.plot([0, 1], [0, 1], linestyle='--', label='Random (AUC = 0.5)',linewidth=2, color = 'pink')\n",
    "\n",
    "plt.title('ROC Curve Comparison')\n",
    "plt.xlabel('False Positive Rate')\n",
    "plt.ylabel('True Positive rate')\n",
    "\n",
    "plt.legend(loc = 'best', prop={'size': 9.5})\n",
    "plt.show()"
   ]
  },
  {
   "cell_type": "markdown",
   "id": "b5d633f2",
   "metadata": {},
   "source": [
    "# Prediction on Unlabeled Data using the Best Model (BERT)"
   ]
  },
  {
   "cell_type": "code",
   "execution_count": 188,
   "id": "472799f6",
   "metadata": {
    "scrolled": true
   },
   "outputs": [
    {
     "name": "stderr",
     "output_type": "stream",
     "text": [
      "/sw/arcts/centos7/python3.8-anaconda/2021.05/lib/python3.8/site-packages/IPython/core/interactiveshell.py:3165: DtypeWarning: Columns (3) have mixed types.Specify dtype option on import or set low_memory=False.\n",
      "  has_raised = await self.run_ast_nodes(code_ast.body, cell_name,\n"
     ]
    }
   ],
   "source": [
    "df_all = pd.read_csv('sephora_review_data.csv')"
   ]
  },
  {
   "cell_type": "code",
   "execution_count": 189,
   "id": "15e97e9f",
   "metadata": {},
   "outputs": [],
   "source": [
    "df_unlabeled = df_all[(df_all['incentivized']==0)&(df_all['verified_purchase']==0)]"
   ]
  },
  {
   "cell_type": "code",
   "execution_count": 190,
   "id": "5758dbab",
   "metadata": {},
   "outputs": [],
   "source": [
    "df_unlabeled['review_title'] = df_unlabeled['review_title'].fillna('')"
   ]
  },
  {
   "cell_type": "code",
   "execution_count": 191,
   "id": "a896b6e0",
   "metadata": {},
   "outputs": [
    {
     "data": {
      "text/html": [
       "<div>\n",
       "<style scoped>\n",
       "    .dataframe tbody tr th:only-of-type {\n",
       "        vertical-align: middle;\n",
       "    }\n",
       "\n",
       "    .dataframe tbody tr th {\n",
       "        vertical-align: top;\n",
       "    }\n",
       "\n",
       "    .dataframe thead th {\n",
       "        text-align: right;\n",
       "    }\n",
       "</style>\n",
       "<table border=\"1\" class=\"dataframe\">\n",
       "  <thead>\n",
       "    <tr style=\"text-align: right;\">\n",
       "      <th></th>\n",
       "      <th>item_id</th>\n",
       "      <th>product</th>\n",
       "      <th>brand</th>\n",
       "      <th>total_reviews</th>\n",
       "      <th>user_name</th>\n",
       "      <th>review_title</th>\n",
       "      <th>review_text</th>\n",
       "      <th>review_rating</th>\n",
       "      <th>helpful_votes</th>\n",
       "      <th>not_helpful_votes</th>\n",
       "      <th>verified_purchase</th>\n",
       "      <th>sephora_employee</th>\n",
       "      <th>incentivized</th>\n",
       "      <th>review</th>\n",
       "    </tr>\n",
       "  </thead>\n",
       "  <tbody>\n",
       "    <tr>\n",
       "      <th>88341</th>\n",
       "      <td>1840305</td>\n",
       "      <td>Problem Solution Moisturizer</td>\n",
       "      <td>belif</td>\n",
       "      <td>86</td>\n",
       "      <td>tennesseebb</td>\n",
       "      <td>finally a moisturizer for problem skin!!!</td>\n",
       "      <td>it can be so hard to find a great moisturizer ...</td>\n",
       "      <td>5.0</td>\n",
       "      <td>1.0</td>\n",
       "      <td>0.0</td>\n",
       "      <td>0</td>\n",
       "      <td>0</td>\n",
       "      <td>0</td>\n",
       "      <td>finally a moisturizer for problem skin!!!. it ...</td>\n",
       "    </tr>\n",
       "  </tbody>\n",
       "</table>\n",
       "</div>"
      ],
      "text/plain": [
       "       item_id                       product  brand total_reviews  \\\n",
       "88341  1840305  Problem Solution Moisturizer  belif            86   \n",
       "\n",
       "         user_name                               review_title  \\\n",
       "88341  tennesseebb  finally a moisturizer for problem skin!!!   \n",
       "\n",
       "                                             review_text  review_rating  \\\n",
       "88341  it can be so hard to find a great moisturizer ...            5.0   \n",
       "\n",
       "       helpful_votes  not_helpful_votes  verified_purchase  sephora_employee  \\\n",
       "88341            1.0                0.0                  0                 0   \n",
       "\n",
       "       incentivized                                             review  \n",
       "88341             0  finally a moisturizer for problem skin!!!. it ...  "
      ]
     },
     "execution_count": 191,
     "metadata": {},
     "output_type": "execute_result"
    }
   ],
   "source": [
    "df_unlabeled['review'] = df_unlabeled['review_title'] + '. ' + df_unlabeled['review_text']\n",
    "df_unlabeled.sample(1)"
   ]
  },
  {
   "cell_type": "code",
   "execution_count": 192,
   "id": "56f079da",
   "metadata": {
    "scrolled": true
   },
   "outputs": [
    {
     "data": {
      "text/plain": [
       "item_id                0\n",
       "product                0\n",
       "brand                  0\n",
       "total_reviews         41\n",
       "user_name            622\n",
       "review_title           0\n",
       "review_text          282\n",
       "review_rating         79\n",
       "helpful_votes         79\n",
       "not_helpful_votes     79\n",
       "verified_purchase      0\n",
       "sephora_employee       0\n",
       "incentivized           0\n",
       "review               282\n",
       "dtype: int64"
      ]
     },
     "execution_count": 192,
     "metadata": {},
     "output_type": "execute_result"
    }
   ],
   "source": [
    "df_unlabeled.isna().sum()"
   ]
  },
  {
   "cell_type": "code",
   "execution_count": 193,
   "id": "85d4614f",
   "metadata": {},
   "outputs": [],
   "source": [
    "df_unlabeled = df_unlabeled.dropna(subset = ['review'])#.isna().sum()"
   ]
  },
  {
   "cell_type": "code",
   "execution_count": 194,
   "id": "09debbdf",
   "metadata": {
    "scrolled": true
   },
   "outputs": [
    {
     "data": {
      "text/plain": [
       "1         0\n",
       "2         0\n",
       "3         0\n",
       "4         0\n",
       "5         0\n",
       "         ..\n",
       "184619    0\n",
       "184627    0\n",
       "184630    0\n",
       "184633    0\n",
       "184635    0\n",
       "Name: incentivized, Length: 100979, dtype: int64"
      ]
     },
     "execution_count": 194,
     "metadata": {},
     "output_type": "execute_result"
    }
   ],
   "source": [
    "df_unlabeled['incentivized']"
   ]
  },
  {
   "cell_type": "code",
   "execution_count": 196,
   "id": "c89f3cdc",
   "metadata": {},
   "outputs": [],
   "source": [
    "unlabeled_df = pd.DataFrame({'labels':df_unlabeled['incentivized'], 'text':df_unlabeled['review']})\n",
    "unlabeled_df.to_csv('unlabeled.csv', index = False)"
   ]
  },
  {
   "cell_type": "code",
   "execution_count": 199,
   "id": "33f3f0aa",
   "metadata": {},
   "outputs": [
    {
     "data": {
      "text/html": [
       "<div>\n",
       "<style scoped>\n",
       "    .dataframe tbody tr th:only-of-type {\n",
       "        vertical-align: middle;\n",
       "    }\n",
       "\n",
       "    .dataframe tbody tr th {\n",
       "        vertical-align: top;\n",
       "    }\n",
       "\n",
       "    .dataframe thead th {\n",
       "        text-align: right;\n",
       "    }\n",
       "</style>\n",
       "<table border=\"1\" class=\"dataframe\">\n",
       "  <thead>\n",
       "    <tr style=\"text-align: right;\">\n",
       "      <th></th>\n",
       "      <th>labels</th>\n",
       "      <th>text</th>\n",
       "    </tr>\n",
       "  </thead>\n",
       "  <tbody>\n",
       "    <tr>\n",
       "      <th>151596</th>\n",
       "      <td>0</td>\n",
       "      <td>Lives up to its claims. I think the key thing ...</td>\n",
       "    </tr>\n",
       "    <tr>\n",
       "      <th>73435</th>\n",
       "      <td>0</td>\n",
       "      <td>Love this tool!. I love this tool. I was spend...</td>\n",
       "    </tr>\n",
       "  </tbody>\n",
       "</table>\n",
       "</div>"
      ],
      "text/plain": [
       "        labels                                               text\n",
       "151596       0  Lives up to its claims. I think the key thing ...\n",
       "73435        0  Love this tool!. I love this tool. I was spend..."
      ]
     },
     "execution_count": 199,
     "metadata": {},
     "output_type": "execute_result"
    }
   ],
   "source": [
    "unlabeled_df.sample(2)"
   ]
  },
  {
   "cell_type": "code",
   "execution_count": 200,
   "id": "8ea459c2",
   "metadata": {},
   "outputs": [
    {
     "data": {
      "application/vnd.jupyter.widget-view+json": {
       "model_id": "cdd2de285dfd4d18adb12ce6e15c76df",
       "version_major": 2,
       "version_minor": 0
      },
      "text/plain": [
       "  0%|          | 0/101 [00:00<?, ?ba/s]"
      ]
     },
     "metadata": {},
     "output_type": "display_data"
    }
   ],
   "source": [
    "unlabeled_dataset = Dataset.from_pandas(unlabeled_df)\n",
    "unlabeled_dataset = unlabeled_dataset.map(tokenize_text, batched = True)"
   ]
  },
  {
   "cell_type": "code",
   "execution_count": 201,
   "id": "a2c15ee3",
   "metadata": {},
   "outputs": [
    {
     "name": "stderr",
     "output_type": "stream",
     "text": [
      "loading configuration file https://huggingface.co/microsoft/MiniLM-L12-H384-uncased/resolve/main/config.json from cache at /home/michengz/.cache/huggingface/transformers/ceb753d3f27a8c0d09184f35884666cda91b8ae610cd2a54d89793ac7663f1f9.13815020fd994b27db9974c0ce0ec4c47dfac6c8f11bf1a35a0a06d5b165665a\n",
      "Model config BertConfig {\n",
      "  \"_name_or_path\": \"microsoft/MiniLM-L12-H384-uncased\",\n",
      "  \"attention_probs_dropout_prob\": 0.1,\n",
      "  \"classifier_dropout\": null,\n",
      "  \"hidden_act\": \"gelu\",\n",
      "  \"hidden_dropout_prob\": 0.1,\n",
      "  \"hidden_size\": 384,\n",
      "  \"initializer_range\": 0.02,\n",
      "  \"intermediate_size\": 1536,\n",
      "  \"layer_norm_eps\": 1e-12,\n",
      "  \"max_position_embeddings\": 512,\n",
      "  \"model_type\": \"bert\",\n",
      "  \"num_attention_heads\": 12,\n",
      "  \"num_hidden_layers\": 12,\n",
      "  \"pad_token_id\": 0,\n",
      "  \"position_embedding_type\": \"absolute\",\n",
      "  \"transformers_version\": \"4.18.0\",\n",
      "  \"type_vocab_size\": 2,\n",
      "  \"use_cache\": true,\n",
      "  \"vocab_size\": 30522\n",
      "}\n",
      "\n",
      "loading weights file https://huggingface.co/microsoft/MiniLM-L12-H384-uncased/resolve/main/pytorch_model.bin from cache at /home/michengz/.cache/huggingface/transformers/b774244369e464de2c660477b70bae7c3223fa7250aa1c8fc0b0f037ed58418a.087808d17814e241e9352c5ce0fea1a7d05e5b0f020d44b42b5f05922e96c923\n",
      "All model checkpoint weights were used when initializing BertForSequenceClassification.\n",
      "\n",
      "Some weights of BertForSequenceClassification were not initialized from the model checkpoint at microsoft/MiniLM-L12-H384-uncased and are newly initialized: ['classifier.bias', 'classifier.weight']\n",
      "You should probably TRAIN this model on a down-stream task to be able to use it for predictions and inference.\n"
     ]
    },
    {
     "data": {
      "text/plain": [
       "<All keys matched successfully>"
      ]
     },
     "execution_count": 201,
     "metadata": {},
     "output_type": "execute_result"
    }
   ],
   "source": [
    "model = AutoModelForSequenceClassification.from_pretrained(\"microsoft/MiniLM-L12-H384-uncased\", \n",
    "                                                           num_labels = 2)\n",
    "model.load_state_dict(torch.load('bert_model'))"
   ]
  },
  {
   "cell_type": "code",
   "execution_count": 202,
   "id": "cf8e9dd6",
   "metadata": {},
   "outputs": [
    {
     "name": "stderr",
     "output_type": "stream",
     "text": [
      "The following columns in the test set  don't have a corresponding argument in `BertForSequenceClassification.forward` and have been ignored: text, __index_level_0__. If text, __index_level_0__ are not expected by `BertForSequenceClassification.forward`,  you can safely ignore this message.\n",
      "***** Running Prediction *****\n",
      "  Num examples = 100979\n",
      "  Batch size = 32\n"
     ]
    },
    {
     "data": {
      "text/plain": [
       "PredictionOutput(predictions=array([[-3.525,  3.785],\n",
       "       [-3.47 ,  3.717],\n",
       "       [ 1.803, -1.986],\n",
       "       ...,\n",
       "       [-3.516,  3.773],\n",
       "       [-3.514,  3.773],\n",
       "       [-3.504,  3.76 ]], dtype=float16), label_ids=array([0, 0, 0, ..., 0, 0, 0]), metrics={'test_loss': 2.672659397125244, 'test_f1 score': 0.7187682391453295, 'test_runtime': 139.2826, 'test_samples_per_second': 724.993, 'test_steps_per_second': 22.659})"
      ]
     },
     "execution_count": 202,
     "metadata": {},
     "output_type": "execute_result"
    }
   ],
   "source": [
    "unlabeled_predictions = trainer.predict(unlabeled_dataset)\n",
    "unlabeled_predictions"
   ]
  },
  {
   "cell_type": "code",
   "execution_count": 203,
   "id": "59851f2b",
   "metadata": {},
   "outputs": [
    {
     "data": {
      "text/plain": [
       "array([1, 1, 0, ..., 1, 1, 1])"
      ]
     },
     "execution_count": 203,
     "metadata": {},
     "output_type": "execute_result"
    }
   ],
   "source": [
    "y_pred_unlabeled = unlabeled_predictions.predictions.argmax(-1)\n",
    "y_pred_unlabeled"
   ]
  },
  {
   "cell_type": "code",
   "execution_count": 206,
   "id": "832f5db4",
   "metadata": {},
   "outputs": [],
   "source": [
    "df_prediction_unlabeled = pd.DataFrame({'text':unlabeled_dataset['text'],'y_pred':y_pred_unlabeled})"
   ]
  },
  {
   "cell_type": "code",
   "execution_count": 280,
   "id": "50094720",
   "metadata": {},
   "outputs": [
    {
     "name": "stdout",
     "output_type": "stream",
     "text": [
      "Buy this!!. Wow!! Let me just say I’m a huge fan of Glow Recipe! I have quite the collection so I was super excited to try this new launch! This strawberry smooth serum has cleared up my skin and made my blemishes and scars clear up almost instantly!! This soaks into my skin and doesn’t leave any sticky residue behind. Another amazing product by glow recipe! I can’t wait to see the result in a month!\n",
      "1\n"
     ]
    }
   ],
   "source": [
    "print(df_prediction_unlabeled.iloc[999]['text'])\n",
    "print(df_prediction_unlabeled.iloc[999]['y_pred'])"
   ]
  },
  {
   "cell_type": "code",
   "execution_count": 207,
   "id": "f0a1a3c7",
   "metadata": {},
   "outputs": [
    {
     "data": {
      "text/plain": [
       "0    56649\n",
       "1    44330\n",
       "Name: y_pred, dtype: int64"
      ]
     },
     "execution_count": 207,
     "metadata": {},
     "output_type": "execute_result"
    }
   ],
   "source": [
    "df_prediction_unlabeled['y_pred'].value_counts()"
   ]
  },
  {
   "cell_type": "code",
   "execution_count": 209,
   "id": "36eada26",
   "metadata": {},
   "outputs": [
    {
     "data": {
      "text/plain": [
       "0    118189\n",
       "1     66449\n",
       "Name: incentivized, dtype: int64"
      ]
     },
     "execution_count": 209,
     "metadata": {},
     "output_type": "execute_result"
    }
   ],
   "source": [
    "df_all['incentivized'].value_counts()"
   ]
  },
  {
   "cell_type": "code",
   "execution_count": 210,
   "id": "5d71eb5c",
   "metadata": {},
   "outputs": [],
   "source": [
    "df_all['inc_ver'] = df_all.apply(group, axis = 1)"
   ]
  },
  {
   "cell_type": "code",
   "execution_count": 211,
   "id": "929eb213",
   "metadata": {},
   "outputs": [
    {
     "data": {
      "text/plain": [
       "Not incentivized\\nNot verified    101261\n",
       "Incentivized\\nNot verified         66032\n",
       "Not incentivized\\nVerified         16928\n",
       "Incentivized\\nVerified               417\n",
       "Name: inc_ver, dtype: int64"
      ]
     },
     "execution_count": 211,
     "metadata": {},
     "output_type": "execute_result"
    }
   ],
   "source": [
    "df_all['inc_ver'].value_counts()"
   ]
  },
  {
   "cell_type": "code",
   "execution_count": 244,
   "id": "d01d47ce",
   "metadata": {},
   "outputs": [
    {
     "data": {
      "image/png": "[encoded data removed]",
      "text/plain": [
       "<Figure size 504x432 with 1 Axes>"
      ]
     },
     "metadata": {},
     "output_type": "display_data"
    }
   ],
   "source": [
    "plt.figure(figsize=(7,6))\n",
    "sns.countplot(x='inc_ver', data=df_all, order = ['Not incentivized\\nNot verified',\n",
    "                                                'Incentivized\\nNot verified',\n",
    "                                                'Not incentivized\\nVerified',\n",
    "                                                'Incentivized\\nVerified  '], palette=\"Paired\")\n",
    "plt.xlabel(\"\", fontsize = 15) \n",
    "plt.ylabel(\"Review Count\", fontsize = 15) \n",
    "plt.xticks(fontsize = 14)\n",
    "plt.savefig('all_data_counts',dpi=300)\n",
    "plt.show()"
   ]
  },
  {
   "cell_type": "markdown",
   "id": "e49a34df",
   "metadata": {},
   "source": [
    "### Plotting Unlabeled Data Prediction Proportions"
   ]
  },
  {
   "cell_type": "code",
   "execution_count": 261,
   "id": "86b2a07d",
   "metadata": {
    "scrolled": true
   },
   "outputs": [
    {
     "data": {
      "image/png": "[encoded data removed]",
      "text/plain": [
       "<Figure size 864x360 with 2 Axes>"
      ]
     },
     "metadata": {},
     "output_type": "display_data"
    }
   ],
   "source": [
    "fig, axs = plt.subplots(1, 2, figsize=(12,5))\n",
    "fig.subplots_adjust(wspace=0.3)\n",
    "sns.countplot(x='inc_ver', data = df_all[(df_all['inc_ver'] =='Incentivized\\nNot verified')|(df_all['inc_ver'] =='Not incentivized\\nVerified')], ax = axs[0]).set_title('True Labeled Data\\nby Sephora')\n",
    "sns.countplot(x='y_pred', data=df_prediction_unlabeled, ax = axs[1]).set_title('BERT Prediction on \\n Remaining Unlabeled Data')\n",
    "axs[0].set_xlabel(\"\", fontsize = 15) \n",
    "axs[1].set_xlabel(\"\", fontsize = 15)\n",
    "axs[0].set_ylabel(\"Review Count\", fontsize = 15) \n",
    "axs[1].set_ylabel(\"Review Count\", fontsize = 15)\n",
    "axs[0].tick_params('x', labelsize = 14)\n",
    "axs[1].tick_params('x', labelsize = 14)\n",
    "axs[0].tick_params('y', labelsize = 12)\n",
    "axs[1].tick_params('y', labelsize = 12)\n",
    "axs[0].set_xticklabels(['Not Incentivized','Incentivized'])\n",
    "axs[1].set_xticklabels(['Not Incentivized','Incentivized'])\n",
    "axs[0].set_ylim(top = 70000)\n",
    "axs[1].set_ylim(top = 60000)\n",
    "plt.savefig('counts_comparison',dpi=300)\n",
    "plt.show()"
   ]
  },
  {
   "cell_type": "markdown",
   "id": "2909bd9c",
   "metadata": {},
   "source": [
    "### Unlabeled Proportions if used LSTM"
   ]
  },
  {
   "cell_type": "code",
   "execution_count": 1287,
   "id": "e00d9f71",
   "metadata": {},
   "outputs": [],
   "source": [
    "# val_data = data.TabularDataset(path = \"val.csv\",\n",
    "#                                 format = \"csv\",\n",
    "#                                 fields = fields,\n",
    "#                                 skip_header = True\n",
    "#                                 )"
   ]
  },
  {
   "cell_type": "code",
   "execution_count": 1288,
   "id": "e29f74a5",
   "metadata": {},
   "outputs": [],
   "source": [
    "# val_iterator = data.BucketIterator(\n",
    "#     val_data, \n",
    "#     batch_size = batch_size,\n",
    "#     sort_key = lambda x: len(x.text),\n",
    "#     sort_within_batch = True)"
   ]
  },
  {
   "cell_type": "code",
   "execution_count": 1289,
   "id": "52c2a59a",
   "metadata": {},
   "outputs": [
    {
     "data": {
      "application/vnd.jupyter.widget-view+json": {
       "model_id": "abb5d0ccf90b41c9872d562a2ea7c407",
       "version_major": 2,
       "version_minor": 0
      },
      "text/plain": [
       "0it [00:00, ?it/s]"
      ]
     },
     "metadata": {},
     "output_type": "display_data"
    }
   ],
   "source": [
    "# y_pred_val,y_true_val, y_proba_val = predict(model, val_iterator)"
   ]
  },
  {
   "cell_type": "code",
   "execution_count": 1290,
   "id": "cc6869a1",
   "metadata": {},
   "outputs": [],
   "source": [
    "# df_prediction_val = pd.DataFrame({'y_pred':y_pred_val})\n",
    "# df_prediction_val['prediction'] = df_prediction_val['y_pred'].apply(lambda x: 1 if x==0 else 0)\n"
   ]
  },
  {
   "cell_type": "code",
   "execution_count": 1291,
   "id": "b8b6af2a",
   "metadata": {},
   "outputs": [
    {
     "data": {
      "text/plain": [
       "1    51637\n",
       "0    49342\n",
       "Name: prediction, dtype: int64"
      ]
     },
     "execution_count": 1291,
     "metadata": {},
     "output_type": "execute_result"
    }
   ],
   "source": [
    "# df_prediction_val['prediction'].value_counts()"
   ]
  },
  {
   "cell_type": "code",
   "execution_count": null,
   "id": "f4ca16f0",
   "metadata": {},
   "outputs": [],
   "source": []
  },
  {
   "cell_type": "code",
   "execution_count": null,
   "id": "669b8c90",
   "metadata": {},
   "outputs": [],
   "source": []
  },
  {
   "cell_type": "code",
   "execution_count": null,
   "id": "34236be8",
   "metadata": {},
   "outputs": [],
   "source": []
  },
  {
   "cell_type": "code",
   "execution_count": null,
   "id": "6b88cf89",
   "metadata": {},
   "outputs": [],
   "source": []
  },
  {
   "cell_type": "code",
   "execution_count": null,
   "id": "e090e4f2",
   "metadata": {},
   "outputs": [],
   "source": []
  },
  {
   "cell_type": "code",
   "execution_count": null,
   "id": "1f67971b",
   "metadata": {},
   "outputs": [],
   "source": []
  },
  {
   "cell_type": "code",
   "execution_count": null,
   "id": "845b4f34",
   "metadata": {},
   "outputs": [],
   "source": []
  }
 ],
 "metadata": {
  "kernelspec": {
   "display_name": "Python 3 (ipykernel)",
   "language": "python",
   "name": "python3"
  },
  "language_info": {
   "codemirror_mode": {
    "name": "ipython",
    "version": 3
   },
   "file_extension": ".py",
   "mimetype": "text/x-python",
   "name": "python",
   "nbconvert_exporter": "python",
   "pygments_lexer": "ipython3",
   "version": "3.8.8"
  }
 },
 "nbformat": 4,
 "nbformat_minor": 5
}
